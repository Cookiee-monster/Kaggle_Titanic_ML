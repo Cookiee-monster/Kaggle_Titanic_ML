{
 "cells": [
  {
   "cell_type": "markdown",
   "metadata": {},
   "source": [
    "<center><h1>RAPORT<h1></center><br>\n",
    "\n",
    "<center><h2>W ramach pracy zaliczeniowej przedmiotu Języki programowania Python i R<h2></center><br>\n",
    "    <center><h2>Modelowanie predykcji przeżycia katastrofy Titanica w ramach Kaggle:<h2></center> \n",
    "        <center><h2>Titanic: Machine Learning from Disaster<h2></center>\n",
    "    \n",
    "   \n",
    "\n",
    "    \n",
    "### Grzegorz Kuprewicz\n",
    "### Inżynieria Danych - Data Science 2019/2020<br><br><br>\n",
    "<center><h3>Gdańsk 2020<h3></center>"
   ]
  },
  {
   "cell_type": "markdown",
   "metadata": {},
   "source": [
    "# 1. Wstęp"
   ]
  },
  {
   "cell_type": "markdown",
   "metadata": {},
   "source": [
    "Celem pracy było sprostaniu ogólnodostępnemu wyzwaniu zamieszczonym na portalu Kaggle. Temat wyzwania dotyczy problemu klasyfikacji binarnej czy dany pasażer przeżył katastrofę statku Titanic w 1912 roku. \n",
    "\n",
    "Zbiorem treningowym wraz z ze zmienną celu był zbiór zawierający rekordy dla 819 pasażerów wraz z danymi zawartymi w 12 kolumnach\n",
    "\n",
    "Słowniczek zmiennych:\n",
    "\n",
    "| Zmienna\t| Definicja                             \t| Klucz                                                                                                                                                         \t|\n",
    "|----------\t|------------------------------------------\t|---------------------------------------------------------------------------------------------------------------------------------------------------------------\t|\n",
    "| Survived \t| Czy dany pasażer przeżył                 \t| 0 = Nie, 1 = Tak                                                                                                                                              \t|\n",
    "| Pclass   \t| Klasa biletu                             \t| 1 = 1wsza, 2 = 2ga, 3 = 3cia                                                                                                                                  \t|\n",
    "| Sex      \t| Płeć                                     \t|                                                                                                                                                               \t|\n",
    "| Name     \t| Imię i nazwisko pasażera                 \t|                                                                                                                                                               \t|\n",
    "| Age      \t| Wiek w latach                            \t| ułamek gdy mniejszy niż 1 rok, w formacie xx.5 gdy<br>wiek był estymowany                                                                                     \t|\n",
    "| SibSp    \t| liczba rodzeństwa/małżonków na pokładzie \t| Sibling(rodzeństwo) = brat, siostra, brat przyrodni, siostra <br>przyrodnia<br>Spouse (małżonkowie) = mąż, żona <br>(kochanki i narzeczone nie były uznawane) \t|\n",
    "| Parch    \t| Liczba rodziców/dzieci na pokładzie      \t| Parent (Rodzic) = mama, tata<br><br>Dziecko = córka, syn, przybrana córka, przybrany syn<br><br>Niektóre dzieci podróżowały tylko z nianią - wtedy Parch = 0  \t|\n",
    "| Ticket   \t| Numer biletu                             \t|                                                                                                                                                               \t|\n",
    "| Fare     \t| Koszt biletu                             \t|                                                                                                                                                               \t|\n",
    "| Cabin    \t| Numer kabiny                             \t|                                                                                                                                                               \t|\n",
    "| Embarked \t| Port zaokrętowania                       \t| C = Cherbourg, Q = Queenstown, S = Southampton                                                                                                                \t|"
   ]
  },
  {
   "cell_type": "markdown",
   "metadata": {},
   "source": [
    "## Importowanie modułów"
   ]
  },
  {
   "cell_type": "code",
   "execution_count": 1,
   "metadata": {},
   "outputs": [
    {
     "name": "stdout",
     "output_type": "stream",
     "text": [
      "Requirement already satisfied: xgboost in c:\\users\\grzegorz.kuprewicz\\appdata\\local\\continuum\\anaconda3\\lib\\site-packages (0.90)\n",
      "Requirement already satisfied: numpy in c:\\users\\grzegorz.kuprewicz\\appdata\\local\\continuum\\anaconda3\\lib\\site-packages (from xgboost) (1.16.5)\n",
      "Requirement already satisfied: scipy in c:\\users\\grzegorz.kuprewicz\\appdata\\local\\continuum\\anaconda3\\lib\\site-packages (from xgboost) (1.3.1)\n"
     ]
    }
   ],
   "source": [
    "# Doinstalowanie brakującego modułu xgboost\n",
    "!pip install xgboost"
   ]
  },
  {
   "cell_type": "code",
   "execution_count": 2,
   "metadata": {},
   "outputs": [],
   "source": [
    "# Wczytanie niezbędnych modułów\n",
    "import pandas as pd\n",
    "import matplotlib.pyplot as plt\n",
    "import seaborn as sns\n",
    "import numpy as np\n",
    "\n",
    "# Wczytywanie modułów ML\n",
    "from sklearn.linear_model import LogisticRegression\n",
    "from sklearn.ensemble import RandomForestClassifier\n",
    "import xgboost as xgb\n",
    "from sklearn.pipeline import Pipeline\n",
    "from sklearn.model_selection import GridSearchCV as gridcv\n",
    "from sklearn.model_selection import cross_validate\n",
    "from sklearn.preprocessing import MinMaxScaler\n",
    "\n",
    "# Stworzenie instancji dla obiektu MinMaxScaler\n",
    "minmax = MinMaxScaler()\n",
    "\n",
    "sns.set() # domyślne ustawienia Matplotlib podczytano jako ustawnia Seaborn\n",
    "pd.set_option('display.max_columns', None) # Zwiększenie liczby widocznych kolumn"
   ]
  },
  {
   "cell_type": "markdown",
   "metadata": {},
   "source": [
    "# 2. Wczytanie i rozpoznanie danych"
   ]
  },
  {
   "cell_type": "code",
   "execution_count": 3,
   "metadata": {},
   "outputs": [],
   "source": [
    "# Wczytanie danych z pliku csv do ramki danych\n",
    "df_titanic = pd.read_csv(r\"Dane\\train.csv\")"
   ]
  },
  {
   "cell_type": "code",
   "execution_count": 4,
   "metadata": {},
   "outputs": [
    {
     "data": {
      "text/html": [
       "<div>\n",
       "<style scoped>\n",
       "    .dataframe tbody tr th:only-of-type {\n",
       "        vertical-align: middle;\n",
       "    }\n",
       "\n",
       "    .dataframe tbody tr th {\n",
       "        vertical-align: top;\n",
       "    }\n",
       "\n",
       "    .dataframe thead th {\n",
       "        text-align: right;\n",
       "    }\n",
       "</style>\n",
       "<table border=\"1\" class=\"dataframe\">\n",
       "  <thead>\n",
       "    <tr style=\"text-align: right;\">\n",
       "      <th></th>\n",
       "      <th>PassengerId</th>\n",
       "      <th>Survived</th>\n",
       "      <th>Pclass</th>\n",
       "      <th>Name</th>\n",
       "      <th>Sex</th>\n",
       "      <th>Age</th>\n",
       "      <th>SibSp</th>\n",
       "      <th>Parch</th>\n",
       "      <th>Ticket</th>\n",
       "      <th>Fare</th>\n",
       "      <th>Cabin</th>\n",
       "      <th>Embarked</th>\n",
       "    </tr>\n",
       "  </thead>\n",
       "  <tbody>\n",
       "    <tr>\n",
       "      <td>0</td>\n",
       "      <td>1</td>\n",
       "      <td>0</td>\n",
       "      <td>3</td>\n",
       "      <td>Braund, Mr. Owen Harris</td>\n",
       "      <td>male</td>\n",
       "      <td>22.0</td>\n",
       "      <td>1</td>\n",
       "      <td>0</td>\n",
       "      <td>A/5 21171</td>\n",
       "      <td>7.2500</td>\n",
       "      <td>NaN</td>\n",
       "      <td>S</td>\n",
       "    </tr>\n",
       "    <tr>\n",
       "      <td>1</td>\n",
       "      <td>2</td>\n",
       "      <td>1</td>\n",
       "      <td>1</td>\n",
       "      <td>Cumings, Mrs. John Bradley (Florence Briggs Th...</td>\n",
       "      <td>female</td>\n",
       "      <td>38.0</td>\n",
       "      <td>1</td>\n",
       "      <td>0</td>\n",
       "      <td>PC 17599</td>\n",
       "      <td>71.2833</td>\n",
       "      <td>C85</td>\n",
       "      <td>C</td>\n",
       "    </tr>\n",
       "    <tr>\n",
       "      <td>2</td>\n",
       "      <td>3</td>\n",
       "      <td>1</td>\n",
       "      <td>3</td>\n",
       "      <td>Heikkinen, Miss. Laina</td>\n",
       "      <td>female</td>\n",
       "      <td>26.0</td>\n",
       "      <td>0</td>\n",
       "      <td>0</td>\n",
       "      <td>STON/O2. 3101282</td>\n",
       "      <td>7.9250</td>\n",
       "      <td>NaN</td>\n",
       "      <td>S</td>\n",
       "    </tr>\n",
       "    <tr>\n",
       "      <td>3</td>\n",
       "      <td>4</td>\n",
       "      <td>1</td>\n",
       "      <td>1</td>\n",
       "      <td>Futrelle, Mrs. Jacques Heath (Lily May Peel)</td>\n",
       "      <td>female</td>\n",
       "      <td>35.0</td>\n",
       "      <td>1</td>\n",
       "      <td>0</td>\n",
       "      <td>113803</td>\n",
       "      <td>53.1000</td>\n",
       "      <td>C123</td>\n",
       "      <td>S</td>\n",
       "    </tr>\n",
       "    <tr>\n",
       "      <td>4</td>\n",
       "      <td>5</td>\n",
       "      <td>0</td>\n",
       "      <td>3</td>\n",
       "      <td>Allen, Mr. William Henry</td>\n",
       "      <td>male</td>\n",
       "      <td>35.0</td>\n",
       "      <td>0</td>\n",
       "      <td>0</td>\n",
       "      <td>373450</td>\n",
       "      <td>8.0500</td>\n",
       "      <td>NaN</td>\n",
       "      <td>S</td>\n",
       "    </tr>\n",
       "  </tbody>\n",
       "</table>\n",
       "</div>"
      ],
      "text/plain": [
       "   PassengerId  Survived  Pclass  \\\n",
       "0            1         0       3   \n",
       "1            2         1       1   \n",
       "2            3         1       3   \n",
       "3            4         1       1   \n",
       "4            5         0       3   \n",
       "\n",
       "                                                Name     Sex   Age  SibSp  \\\n",
       "0                            Braund, Mr. Owen Harris    male  22.0      1   \n",
       "1  Cumings, Mrs. John Bradley (Florence Briggs Th...  female  38.0      1   \n",
       "2                             Heikkinen, Miss. Laina  female  26.0      0   \n",
       "3       Futrelle, Mrs. Jacques Heath (Lily May Peel)  female  35.0      1   \n",
       "4                           Allen, Mr. William Henry    male  35.0      0   \n",
       "\n",
       "   Parch            Ticket     Fare Cabin Embarked  \n",
       "0      0         A/5 21171   7.2500   NaN        S  \n",
       "1      0          PC 17599  71.2833   C85        C  \n",
       "2      0  STON/O2. 3101282   7.9250   NaN        S  \n",
       "3      0            113803  53.1000  C123        S  \n",
       "4      0            373450   8.0500   NaN        S  "
      ]
     },
     "execution_count": 4,
     "metadata": {},
     "output_type": "execute_result"
    }
   ],
   "source": [
    "# Podgląd 5 wierszy z ramki danych\n",
    "df_titanic.head()"
   ]
  },
  {
   "cell_type": "code",
   "execution_count": 5,
   "metadata": {},
   "outputs": [
    {
     "name": "stdout",
     "output_type": "stream",
     "text": [
      "<class 'pandas.core.frame.DataFrame'>\n",
      "RangeIndex: 891 entries, 0 to 890\n",
      "Data columns (total 12 columns):\n",
      "PassengerId    891 non-null int64\n",
      "Survived       891 non-null int64\n",
      "Pclass         891 non-null int64\n",
      "Name           891 non-null object\n",
      "Sex            891 non-null object\n",
      "Age            714 non-null float64\n",
      "SibSp          891 non-null int64\n",
      "Parch          891 non-null int64\n",
      "Ticket         891 non-null object\n",
      "Fare           891 non-null float64\n",
      "Cabin          204 non-null object\n",
      "Embarked       889 non-null object\n",
      "dtypes: float64(2), int64(5), object(5)\n",
      "memory usage: 83.7+ KB\n"
     ]
    }
   ],
   "source": [
    "# Podstawowe informacje o zbiorze, typach zmiennych i ilości niepustych pól\n",
    "df_titanic.info()"
   ]
  },
  {
   "cell_type": "markdown",
   "metadata": {},
   "source": [
    "Zbiór zawiera informacje o 819 pasażerach natomiast zmienne \"Age\" oraz \"Cabin\" wykazują zauważalne braki w danych. <br> Zbiór zawiara zarówno wartości liczbowe - ciągłe, wartości które można uznać za kategoryczna jak również tekst."
   ]
  },
  {
   "cell_type": "markdown",
   "metadata": {},
   "source": [
    "#### Sprawdzenie poprawności klasyfikacji płci\n",
    "\n",
    "W celu weryfikacji jakości danych zdecydowano się na sprawdzenie poprawności klasyfikacji płci pasażera. <br>Do tego celu wykorzystano tytuł znajdujący się w zmiennej \"Name\" każdego z pasażerów. "
   ]
  },
  {
   "cell_type": "code",
   "execution_count": 6,
   "metadata": {},
   "outputs": [
    {
     "data": {
      "text/html": [
       "<div>\n",
       "<style scoped>\n",
       "    .dataframe tbody tr th:only-of-type {\n",
       "        vertical-align: middle;\n",
       "    }\n",
       "\n",
       "    .dataframe tbody tr th {\n",
       "        vertical-align: top;\n",
       "    }\n",
       "\n",
       "    .dataframe thead th {\n",
       "        text-align: right;\n",
       "    }\n",
       "</style>\n",
       "<table border=\"1\" class=\"dataframe\">\n",
       "  <thead>\n",
       "    <tr style=\"text-align: right;\">\n",
       "      <th></th>\n",
       "      <th>PassengerId</th>\n",
       "      <th>Survived</th>\n",
       "      <th>Pclass</th>\n",
       "      <th>Name</th>\n",
       "      <th>Sex</th>\n",
       "      <th>Age</th>\n",
       "      <th>SibSp</th>\n",
       "      <th>Parch</th>\n",
       "      <th>Ticket</th>\n",
       "      <th>Fare</th>\n",
       "      <th>Cabin</th>\n",
       "      <th>Embarked</th>\n",
       "    </tr>\n",
       "  </thead>\n",
       "  <tbody>\n",
       "    <tr>\n",
       "      <td>369</td>\n",
       "      <td>370</td>\n",
       "      <td>1</td>\n",
       "      <td>1</td>\n",
       "      <td>Aubart, Mme. Leontine Pauline</td>\n",
       "      <td>female</td>\n",
       "      <td>24.0</td>\n",
       "      <td>0</td>\n",
       "      <td>0</td>\n",
       "      <td>PC 17477</td>\n",
       "      <td>69.3000</td>\n",
       "      <td>B35</td>\n",
       "      <td>C</td>\n",
       "    </tr>\n",
       "    <tr>\n",
       "      <td>443</td>\n",
       "      <td>444</td>\n",
       "      <td>1</td>\n",
       "      <td>2</td>\n",
       "      <td>Reynaldo, Ms. Encarnacion</td>\n",
       "      <td>female</td>\n",
       "      <td>28.0</td>\n",
       "      <td>0</td>\n",
       "      <td>0</td>\n",
       "      <td>230434</td>\n",
       "      <td>13.0000</td>\n",
       "      <td>NaN</td>\n",
       "      <td>S</td>\n",
       "    </tr>\n",
       "    <tr>\n",
       "      <td>556</td>\n",
       "      <td>557</td>\n",
       "      <td>1</td>\n",
       "      <td>1</td>\n",
       "      <td>Duff Gordon, Lady. (Lucille Christiana Sutherl...</td>\n",
       "      <td>female</td>\n",
       "      <td>48.0</td>\n",
       "      <td>1</td>\n",
       "      <td>0</td>\n",
       "      <td>11755</td>\n",
       "      <td>39.6000</td>\n",
       "      <td>A16</td>\n",
       "      <td>C</td>\n",
       "    </tr>\n",
       "    <tr>\n",
       "      <td>641</td>\n",
       "      <td>642</td>\n",
       "      <td>1</td>\n",
       "      <td>1</td>\n",
       "      <td>Sagesser, Mlle. Emma</td>\n",
       "      <td>female</td>\n",
       "      <td>24.0</td>\n",
       "      <td>0</td>\n",
       "      <td>0</td>\n",
       "      <td>PC 17477</td>\n",
       "      <td>69.3000</td>\n",
       "      <td>B35</td>\n",
       "      <td>C</td>\n",
       "    </tr>\n",
       "    <tr>\n",
       "      <td>710</td>\n",
       "      <td>711</td>\n",
       "      <td>1</td>\n",
       "      <td>1</td>\n",
       "      <td>Mayne, Mlle. Berthe Antonine (\"Mrs de Villiers\")</td>\n",
       "      <td>female</td>\n",
       "      <td>24.0</td>\n",
       "      <td>0</td>\n",
       "      <td>0</td>\n",
       "      <td>PC 17482</td>\n",
       "      <td>49.5042</td>\n",
       "      <td>C90</td>\n",
       "      <td>C</td>\n",
       "    </tr>\n",
       "    <tr>\n",
       "      <td>759</td>\n",
       "      <td>760</td>\n",
       "      <td>1</td>\n",
       "      <td>1</td>\n",
       "      <td>Rothes, the Countess. of (Lucy Noel Martha Dye...</td>\n",
       "      <td>female</td>\n",
       "      <td>33.0</td>\n",
       "      <td>0</td>\n",
       "      <td>0</td>\n",
       "      <td>110152</td>\n",
       "      <td>86.5000</td>\n",
       "      <td>B77</td>\n",
       "      <td>S</td>\n",
       "    </tr>\n",
       "    <tr>\n",
       "      <td>796</td>\n",
       "      <td>797</td>\n",
       "      <td>1</td>\n",
       "      <td>1</td>\n",
       "      <td>Leader, Dr. Alice (Farnham)</td>\n",
       "      <td>female</td>\n",
       "      <td>49.0</td>\n",
       "      <td>0</td>\n",
       "      <td>0</td>\n",
       "      <td>17465</td>\n",
       "      <td>25.9292</td>\n",
       "      <td>D17</td>\n",
       "      <td>S</td>\n",
       "    </tr>\n",
       "  </tbody>\n",
       "</table>\n",
       "</div>"
      ],
      "text/plain": [
       "     PassengerId  Survived  Pclass  \\\n",
       "369          370         1       1   \n",
       "443          444         1       2   \n",
       "556          557         1       1   \n",
       "641          642         1       1   \n",
       "710          711         1       1   \n",
       "759          760         1       1   \n",
       "796          797         1       1   \n",
       "\n",
       "                                                  Name     Sex   Age  SibSp  \\\n",
       "369                      Aubart, Mme. Leontine Pauline  female  24.0      0   \n",
       "443                          Reynaldo, Ms. Encarnacion  female  28.0      0   \n",
       "556  Duff Gordon, Lady. (Lucille Christiana Sutherl...  female  48.0      1   \n",
       "641                               Sagesser, Mlle. Emma  female  24.0      0   \n",
       "710   Mayne, Mlle. Berthe Antonine (\"Mrs de Villiers\")  female  24.0      0   \n",
       "759  Rothes, the Countess. of (Lucy Noel Martha Dye...  female  33.0      0   \n",
       "796                        Leader, Dr. Alice (Farnham)  female  49.0      0   \n",
       "\n",
       "     Parch    Ticket     Fare Cabin Embarked  \n",
       "369      0  PC 17477  69.3000   B35        C  \n",
       "443      0    230434  13.0000   NaN        S  \n",
       "556      0     11755  39.6000   A16        C  \n",
       "641      0  PC 17477  69.3000   B35        C  \n",
       "710      0  PC 17482  49.5042   C90        C  \n",
       "759      0    110152  86.5000   B77        S  \n",
       "796      0     17465  25.9292   D17        S  "
      ]
     },
     "execution_count": 6,
     "metadata": {},
     "output_type": "execute_result"
    }
   ],
   "source": [
    "# Wzór Regex do wyszukania kobiet\n",
    "pattern = \"Miss\\.|Mrs\\.\"\n",
    "\n",
    "# Sprawdzenie czy w zmiennej \"Name\" występuje wzorzec. Zmapowanie płci \"female\" w przypadku wartości True. \n",
    "retrived_gender = df_titanic[\"Name\"].str.contains(pattern, regex=True).map({True: \"female\", False: \"male\"})\n",
    "\n",
    "# Zestawienie płci zawartej w oryginalnym zbiorze z płcią wywnioskowaną z pola \"Name\" - poszukiwanie niezgodności\n",
    "incorrect_gender = df_titanic.Sex != retrived_gender\n",
    "\n",
    "# Wyfiltrowanie problematycznych rekordów\n",
    "df_titanic.loc[incorrect_gender]"
   ]
  },
  {
   "cell_type": "markdown",
   "metadata": {},
   "source": [
    "Analiza wpisów niezawierających tytułów Miss. lub Mrs. wskazuje, że odpowiadają one również kobietom.  \n",
    "Płeć została przypisana prawidłowo w całym zbiorze"
   ]
  },
  {
   "cell_type": "markdown",
   "metadata": {},
   "source": [
    "Z uwagi na małą przydatność zmiennej \"Name\" zdecydowano się na wyodrębnienie z niej tytułu danego pasażera i zapisanie go w zmiennej \"Title\" do potencjalnego późniejszego wykorzystania w modelu. "
   ]
  },
  {
   "cell_type": "code",
   "execution_count": 7,
   "metadata": {},
   "outputs": [],
   "source": [
    "# Wyodbrębnienie tytułów za pomocą regexa wyszukującego wyrazy zakończone kropką\n",
    "df_titanic[\"Title\"] = df_titanic[\"Name\"].str.extract(\"(\\w*\\.)\")"
   ]
  },
  {
   "cell_type": "code",
   "execution_count": 8,
   "metadata": {},
   "outputs": [
    {
     "data": {
      "text/plain": [
       "<matplotlib.axes._subplots.AxesSubplot at 0x1570d08bf88>"
      ]
     },
     "execution_count": 8,
     "metadata": {},
     "output_type": "execute_result"
    },
    {
     "data": {
      "image/png": "[encoded data removed]",
      "text/plain": [
       "<Figure size 432x288 with 1 Axes>"
      ]
     },
     "metadata": {
      "needs_background": "light"
     },
     "output_type": "display_data"
    }
   ],
   "source": [
    "# Sprawdzenie liczności poszczególnych tytułow\n",
    "df_titanic[\"Title\"].value_counts().plot.barh()"
   ]
  },
  {
   "cell_type": "markdown",
   "metadata": {},
   "source": [
    "Najczęściej występującymi tytułami są te najpowszechniejsze t.j. Mr. i Master. dla mężczyzn oraz Miss. i Mrs. dla kobiet. "
   ]
  },
  {
   "cell_type": "markdown",
   "metadata": {},
   "source": [
    "#### Sprawdzenie wartości zmiennej Age  \n",
    "Sprawdzono liczbę pustych pól.  \n",
    "Zgodnie z informacjami zawartymi w słowniczku, w przypadku gdy wiek pasażera był mniejszy niż 1 to wiek przestawiono jako ułamek.  \n",
    "W przypadku gdy wiek był estymowany, wartość zawiera dodatkowo cyfrę 5 jako pierwszą cyfrę części dziesiętnej."
   ]
  },
  {
   "cell_type": "code",
   "execution_count": 9,
   "metadata": {},
   "outputs": [
    {
     "data": {
      "text/plain": [
       "False    873\n",
       "True      18\n",
       "Name: Age, dtype: int64"
      ]
     },
     "execution_count": 9,
     "metadata": {},
     "output_type": "execute_result"
    }
   ],
   "source": [
    "# Wzorzec do wyszukania oszacowanej wartości wieku \n",
    "pattern = \"\\d.5\"\n",
    "\n",
    "# Wyszukanie wzorca w wartości wieku potraktowanej jako ciąg znaków\n",
    "estimated_age = df_titanic.Age.astype(str).str.contains(pattern, regex=True)\n",
    "estimated_age.value_counts()"
   ]
  },
  {
   "cell_type": "markdown",
   "metadata": {},
   "source": [
    "Dla 18 pasażerów podany wiek jest wartością oszacowaną. "
   ]
  },
  {
   "cell_type": "code",
   "execution_count": 10,
   "metadata": {},
   "outputs": [
    {
     "data": {
      "text/plain": [
       "0.75    2\n",
       "0.83    2\n",
       "0.67    1\n",
       "0.42    1\n",
       "0.92    1\n",
       "Name: Age, dtype: int64"
      ]
     },
     "execution_count": 10,
     "metadata": {},
     "output_type": "execute_result"
    }
   ],
   "source": [
    "# Sprawdzenie ilości wartości wieku mniejszego niż 1\n",
    "\n",
    "df_titanic.Age[df_titanic.Age < 1].value_counts()"
   ]
  },
  {
   "cell_type": "markdown",
   "metadata": {},
   "source": [
    "Zdecydowano się przekształcić wartości wieku do liczb całkowitych:\n",
    "- wiek poniżej 1 roku - przyjęto wiek równy 1\n",
    "- wiek estymowany - zaokrąglono w górę do liczby całkowitej"
   ]
  },
  {
   "cell_type": "markdown",
   "metadata": {},
   "source": [
    "#### Uzupełnienie pustych pól dla zmiennej Age"
   ]
  },
  {
   "cell_type": "code",
   "execution_count": 11,
   "metadata": {},
   "outputs": [
    {
     "data": {
      "text/plain": [
       "177"
      ]
     },
     "execution_count": 11,
     "metadata": {},
     "output_type": "execute_result"
    }
   ],
   "source": [
    "# Sprawdzenie liczby brakujących wartości\n",
    "age_is_na = df_titanic[\"Age\"].isna().sum()\n",
    "age_is_na"
   ]
  },
  {
   "cell_type": "code",
   "execution_count": 12,
   "metadata": {},
   "outputs": [
    {
     "data": {
      "image/png": "[encoded data removed]",
      "text/plain": [
       "<Figure size 432x288 with 1 Axes>"
      ]
     },
     "metadata": {
      "needs_background": "light"
     },
     "output_type": "display_data"
    }
   ],
   "source": [
    "# Wygenerowanie histogramu wartośći dla zmiennej \"Age\"\n",
    "age_title = df_titanic[[\"Age\", \"Title\"]].dropna()\n",
    "sns.distplot(age_title[\"Age\"])\n",
    "plt.title(\"Histogram wartości zmiennej Age\")\n",
    "plt.xlabel(\"Wiek\")\n",
    "plt.show()"
   ]
  },
  {
   "cell_type": "markdown",
   "metadata": {},
   "source": [
    "Z uwagi na sporą liczbę brakujących danych o wieku pasażerów zdecydowano się na wylosowanie wartości wieku dla wygenerowanych wcześniej wartości wieku z wykorzystaniem rozkłądu normalnego bazującego na średniej oraz odchyleniu standardowym wyliczonym na bazie znanych wartości. "
   ]
  },
  {
   "cell_type": "code",
   "execution_count": 13,
   "metadata": {},
   "outputs": [
    {
     "data": {
      "image/png": "[encoded data removed]",
      "text/plain": [
       "<Figure size 432x288 with 1 Axes>"
      ]
     },
     "metadata": {
      "needs_background": "light"
     },
     "output_type": "display_data"
    }
   ],
   "source": [
    "age = df_titanic[\"Age\"].dropna()\n",
    "\n",
    "# Zastąpienie brakujących wartości wartościami losowymi z rozkładem normalnym\n",
    "mean = np.mean(age)\n",
    "std = np.std(age)\n",
    "\n",
    "# Wygenerowanie 5000 wartości wieku z rozkładem normalnym\n",
    "generated_age = abs(np.random.normal(mean, std, 5000).round())\n",
    "\n",
    "# Wylosowanie brakujących wartości korzystając z wygenerowanego zbioru\n",
    "generated_age = np.random.choice(generated_age, age_is_na)\n",
    "\n",
    "df_titanic.loc[df_titanic[\"Age\"].isna(), \"Age\"] = generated_age\n",
    "\n",
    "sns.distplot(age)\n",
    "sns.distplot(df_titanic[\"Age\"])\n",
    "plt.title(\"Histogram wartości zmiennej Age - po uzupełnieniu braków\")\n",
    "plt.xlabel(\"Wiek\")\n",
    "plt.legend([\"Przed uzupełnieniem NA\", \"Po uzupełnieniu NA\"])\n",
    "plt.show()"
   ]
  },
  {
   "cell_type": "code",
   "execution_count": 14,
   "metadata": {},
   "outputs": [
    {
     "data": {
      "text/plain": [
       "0      22\n",
       "1      38\n",
       "2      26\n",
       "3      35\n",
       "4      35\n",
       "       ..\n",
       "886    27\n",
       "887    19\n",
       "888    18\n",
       "889    26\n",
       "890    32\n",
       "Name: Age, Length: 891, dtype: int32"
      ]
     },
     "execution_count": 14,
     "metadata": {},
     "output_type": "execute_result"
    }
   ],
   "source": [
    "# Zaokrąglenie wieku poniżej 1 roku do 1 roku\n",
    "df_titanic.loc[df_titanic.Age < 1, \"Age\"] = 1\n",
    "\n",
    "# Zaokrąglenie wartości wieku oszacowanego do liczby całkowitej\n",
    "df_titanic.loc[estimated_age, \"Age\"].apply(np.ceil)\n",
    "\n",
    "# Ustawienie typu zmiennej \"Age\" jako int\n",
    "df_titanic[\"Age\"].astype(int)"
   ]
  },
  {
   "cell_type": "markdown",
   "metadata": {},
   "source": [
    "Wszysktkie pola dla zmiennej \"Age\" zawierają już wartości. "
   ]
  },
  {
   "cell_type": "markdown",
   "metadata": {},
   "source": [
    "#### Sprawdzenie nadal występujących braków w danych"
   ]
  },
  {
   "cell_type": "code",
   "execution_count": 15,
   "metadata": {},
   "outputs": [
    {
     "name": "stdout",
     "output_type": "stream",
     "text": [
      "<class 'pandas.core.frame.DataFrame'>\n",
      "RangeIndex: 891 entries, 0 to 890\n",
      "Data columns (total 13 columns):\n",
      "PassengerId    891 non-null int64\n",
      "Survived       891 non-null int64\n",
      "Pclass         891 non-null int64\n",
      "Name           891 non-null object\n",
      "Sex            891 non-null object\n",
      "Age            891 non-null float64\n",
      "SibSp          891 non-null int64\n",
      "Parch          891 non-null int64\n",
      "Ticket         891 non-null object\n",
      "Fare           891 non-null float64\n",
      "Cabin          204 non-null object\n",
      "Embarked       889 non-null object\n",
      "Title          891 non-null object\n",
      "dtypes: float64(2), int64(5), object(6)\n",
      "memory usage: 90.6+ KB\n"
     ]
    }
   ],
   "source": [
    "df_titanic.info()"
   ]
  },
  {
   "cell_type": "markdown",
   "metadata": {},
   "source": [
    "Występujące nadal braki to pola dla zmiennych \"Cabin\" oraz \"Embarked\""
   ]
  },
  {
   "cell_type": "markdown",
   "metadata": {},
   "source": [
    "#### Zmienna \"Cabin\""
   ]
  },
  {
   "cell_type": "code",
   "execution_count": 16,
   "metadata": {},
   "outputs": [
    {
     "name": "stdout",
     "output_type": "stream",
     "text": [
      "1             C85\n",
      "3            C123\n",
      "6             E46\n",
      "10             G6\n",
      "11           C103\n",
      "21            D56\n",
      "23             A6\n",
      "27    C23 C25 C27\n",
      "31            B78\n",
      "52            D33\n",
      "Name: Cabin, dtype: object\n",
      "\n",
      "\n",
      "Udział pustych pól dla zmiennej 'Cabin' wynosi 77.10 procent.\n"
     ]
    }
   ],
   "source": [
    "# Wyświetlenie 10 pierwszych niepustych wartości dla zmiennej \"Cabin\"\n",
    "print(df_titanic[\"Cabin\"].dropna().head(10))\n",
    "\n",
    "# Wyświetlenie udziału pustych pól dla zmiennej \"Cabin\"\n",
    "na_cabin_ratio = df_titanic[\"Cabin\"].isna().sum() / df_titanic.shape[0]\n",
    "print(\"\\n\\nUdział pustych pól dla zmiennej 'Cabin' wynosi {:.2f} procent.\".format(na_cabin_ratio * 100))"
   ]
  },
  {
   "cell_type": "markdown",
   "metadata": {},
   "source": [
    "Litery przy oznaczeniu kabiny wskazują na pokład na którym znajduje się dana kabina. Wystąpienie wpisu z więcej niż jedną kabiną oznacza, że dany pasażer wykupił kilka przyległych kabin, które połączył ze sobą. <br>Nawet po uzyskaniu o informacji o pokładzie na którym zaokrętowany był dany pasażer, braków w polu było tak dużo (77 %), że zdecydowano się odrzucić zmienną \"Cabin\". "
   ]
  },
  {
   "cell_type": "code",
   "execution_count": 17,
   "metadata": {},
   "outputs": [],
   "source": [
    "# Usunięcie zmiennej \"Cabin\" z ramki danych\n",
    "df_titanic.drop(\"Cabin\", axis=1, inplace=True)"
   ]
  },
  {
   "cell_type": "markdown",
   "metadata": {},
   "source": [
    "#### Zmienna \"Embarked\""
   ]
  },
  {
   "cell_type": "markdown",
   "metadata": {},
   "source": [
    "W przypadku zmiennej \"Embarked\" brakujące wartości wystąpiły wyłącznie dla 2 pól. Zdecydowano się na usunięcie owych rekordów. "
   ]
  },
  {
   "cell_type": "code",
   "execution_count": 18,
   "metadata": {},
   "outputs": [],
   "source": [
    "# Indeks wierszy dla których zmienna \"Embarked\" nie zawiera wartości\n",
    "ix = df_titanic[df_titanic[\"Embarked\"].isna()].index\n",
    "\n",
    "# Usunięcie wskazanych wierszy\n",
    "df_titanic.drop(ix, axis=0, inplace=True)"
   ]
  },
  {
   "cell_type": "code",
   "execution_count": 19,
   "metadata": {},
   "outputs": [
    {
     "name": "stdout",
     "output_type": "stream",
     "text": [
      "<class 'pandas.core.frame.DataFrame'>\n",
      "Int64Index: 889 entries, 0 to 890\n",
      "Data columns (total 12 columns):\n",
      "PassengerId    889 non-null int64\n",
      "Survived       889 non-null int64\n",
      "Pclass         889 non-null int64\n",
      "Name           889 non-null object\n",
      "Sex            889 non-null object\n",
      "Age            889 non-null float64\n",
      "SibSp          889 non-null int64\n",
      "Parch          889 non-null int64\n",
      "Ticket         889 non-null object\n",
      "Fare           889 non-null float64\n",
      "Embarked       889 non-null object\n",
      "Title          889 non-null object\n",
      "dtypes: float64(2), int64(5), object(5)\n",
      "memory usage: 90.3+ KB\n"
     ]
    }
   ],
   "source": [
    "# Sprawdzenie informacji o zbiorze - brak pustych pól\n",
    "df_titanic.info()"
   ]
  },
  {
   "cell_type": "markdown",
   "metadata": {},
   "source": [
    "Zbiór poddany dalszej analizie nie zawiera już pustych pól - finalnie analizowane jest 889 rekordów z początkowych 891. "
   ]
  },
  {
   "cell_type": "markdown",
   "metadata": {},
   "source": [
    "# 3. EDA"
   ]
  },
  {
   "cell_type": "markdown",
   "metadata": {},
   "source": [
    "Indeksem ramki danych ustanowiono zmienną \"PassengerId\""
   ]
  },
  {
   "cell_type": "code",
   "execution_count": 20,
   "metadata": {},
   "outputs": [],
   "source": [
    "# Wykorzystanie \"PassengerId\" jako indeksu zbioru\n",
    "df_titanic.set_index(\"PassengerId\", inplace=True)"
   ]
  },
  {
   "cell_type": "code",
   "execution_count": 21,
   "metadata": {},
   "outputs": [
    {
     "name": "stdout",
     "output_type": "stream",
     "text": [
      "<class 'pandas.core.frame.DataFrame'>\n",
      "Int64Index: 889 entries, 1 to 891\n",
      "Data columns (total 11 columns):\n",
      "Survived    889 non-null int64\n",
      "Pclass      889 non-null int64\n",
      "Name        889 non-null object\n",
      "Sex         889 non-null object\n",
      "Age         889 non-null float64\n",
      "SibSp       889 non-null int64\n",
      "Parch       889 non-null int64\n",
      "Ticket      889 non-null object\n",
      "Fare        889 non-null float64\n",
      "Embarked    889 non-null object\n",
      "Title       889 non-null object\n",
      "dtypes: float64(2), int64(4), object(5)\n",
      "memory usage: 83.3+ KB\n"
     ]
    }
   ],
   "source": [
    "df_titanic.info()"
   ]
  },
  {
   "cell_type": "markdown",
   "metadata": {},
   "source": [
    "#### Analiza typów zmiennych "
   ]
  },
  {
   "cell_type": "code",
   "execution_count": 22,
   "metadata": {},
   "outputs": [
    {
     "name": "stdout",
     "output_type": "stream",
     "text": [
      "Liczba unikalnych rekordów zmiennej 'Ticket':  680 \n",
      "\n",
      "\n"
     ]
    },
    {
     "data": {
      "text/html": [
       "<div>\n",
       "<style scoped>\n",
       "    .dataframe tbody tr th:only-of-type {\n",
       "        vertical-align: middle;\n",
       "    }\n",
       "\n",
       "    .dataframe tbody tr th {\n",
       "        vertical-align: top;\n",
       "    }\n",
       "\n",
       "    .dataframe thead th {\n",
       "        text-align: right;\n",
       "    }\n",
       "</style>\n",
       "<table border=\"1\" class=\"dataframe\">\n",
       "  <thead>\n",
       "    <tr style=\"text-align: right;\">\n",
       "      <th></th>\n",
       "      <th>Survived</th>\n",
       "      <th>Pclass</th>\n",
       "      <th>Name</th>\n",
       "      <th>Sex</th>\n",
       "      <th>Age</th>\n",
       "      <th>SibSp</th>\n",
       "      <th>Parch</th>\n",
       "      <th>Ticket</th>\n",
       "      <th>Fare</th>\n",
       "      <th>Embarked</th>\n",
       "      <th>Title</th>\n",
       "    </tr>\n",
       "    <tr>\n",
       "      <th>PassengerId</th>\n",
       "      <th></th>\n",
       "      <th></th>\n",
       "      <th></th>\n",
       "      <th></th>\n",
       "      <th></th>\n",
       "      <th></th>\n",
       "      <th></th>\n",
       "      <th></th>\n",
       "      <th></th>\n",
       "      <th></th>\n",
       "      <th></th>\n",
       "    </tr>\n",
       "  </thead>\n",
       "  <tbody>\n",
       "    <tr>\n",
       "      <td>1</td>\n",
       "      <td>0</td>\n",
       "      <td>3</td>\n",
       "      <td>Braund, Mr. Owen Harris</td>\n",
       "      <td>male</td>\n",
       "      <td>22.0</td>\n",
       "      <td>1</td>\n",
       "      <td>0</td>\n",
       "      <td>A/5 21171</td>\n",
       "      <td>7.2500</td>\n",
       "      <td>S</td>\n",
       "      <td>Mr.</td>\n",
       "    </tr>\n",
       "    <tr>\n",
       "      <td>2</td>\n",
       "      <td>1</td>\n",
       "      <td>1</td>\n",
       "      <td>Cumings, Mrs. John Bradley (Florence Briggs Th...</td>\n",
       "      <td>female</td>\n",
       "      <td>38.0</td>\n",
       "      <td>1</td>\n",
       "      <td>0</td>\n",
       "      <td>PC 17599</td>\n",
       "      <td>71.2833</td>\n",
       "      <td>C</td>\n",
       "      <td>Mrs.</td>\n",
       "    </tr>\n",
       "    <tr>\n",
       "      <td>3</td>\n",
       "      <td>1</td>\n",
       "      <td>3</td>\n",
       "      <td>Heikkinen, Miss. Laina</td>\n",
       "      <td>female</td>\n",
       "      <td>26.0</td>\n",
       "      <td>0</td>\n",
       "      <td>0</td>\n",
       "      <td>STON/O2. 3101282</td>\n",
       "      <td>7.9250</td>\n",
       "      <td>S</td>\n",
       "      <td>Miss.</td>\n",
       "    </tr>\n",
       "    <tr>\n",
       "      <td>4</td>\n",
       "      <td>1</td>\n",
       "      <td>1</td>\n",
       "      <td>Futrelle, Mrs. Jacques Heath (Lily May Peel)</td>\n",
       "      <td>female</td>\n",
       "      <td>35.0</td>\n",
       "      <td>1</td>\n",
       "      <td>0</td>\n",
       "      <td>113803</td>\n",
       "      <td>53.1000</td>\n",
       "      <td>S</td>\n",
       "      <td>Mrs.</td>\n",
       "    </tr>\n",
       "    <tr>\n",
       "      <td>5</td>\n",
       "      <td>0</td>\n",
       "      <td>3</td>\n",
       "      <td>Allen, Mr. William Henry</td>\n",
       "      <td>male</td>\n",
       "      <td>35.0</td>\n",
       "      <td>0</td>\n",
       "      <td>0</td>\n",
       "      <td>373450</td>\n",
       "      <td>8.0500</td>\n",
       "      <td>S</td>\n",
       "      <td>Mr.</td>\n",
       "    </tr>\n",
       "    <tr>\n",
       "      <td>6</td>\n",
       "      <td>0</td>\n",
       "      <td>3</td>\n",
       "      <td>Moran, Mr. James</td>\n",
       "      <td>male</td>\n",
       "      <td>37.0</td>\n",
       "      <td>0</td>\n",
       "      <td>0</td>\n",
       "      <td>330877</td>\n",
       "      <td>8.4583</td>\n",
       "      <td>Q</td>\n",
       "      <td>Mr.</td>\n",
       "    </tr>\n",
       "    <tr>\n",
       "      <td>7</td>\n",
       "      <td>0</td>\n",
       "      <td>1</td>\n",
       "      <td>McCarthy, Mr. Timothy J</td>\n",
       "      <td>male</td>\n",
       "      <td>54.0</td>\n",
       "      <td>0</td>\n",
       "      <td>0</td>\n",
       "      <td>17463</td>\n",
       "      <td>51.8625</td>\n",
       "      <td>S</td>\n",
       "      <td>Mr.</td>\n",
       "    </tr>\n",
       "    <tr>\n",
       "      <td>8</td>\n",
       "      <td>0</td>\n",
       "      <td>3</td>\n",
       "      <td>Palsson, Master. Gosta Leonard</td>\n",
       "      <td>male</td>\n",
       "      <td>2.0</td>\n",
       "      <td>3</td>\n",
       "      <td>1</td>\n",
       "      <td>349909</td>\n",
       "      <td>21.0750</td>\n",
       "      <td>S</td>\n",
       "      <td>Master.</td>\n",
       "    </tr>\n",
       "    <tr>\n",
       "      <td>9</td>\n",
       "      <td>1</td>\n",
       "      <td>3</td>\n",
       "      <td>Johnson, Mrs. Oscar W (Elisabeth Vilhelmina Berg)</td>\n",
       "      <td>female</td>\n",
       "      <td>27.0</td>\n",
       "      <td>0</td>\n",
       "      <td>2</td>\n",
       "      <td>347742</td>\n",
       "      <td>11.1333</td>\n",
       "      <td>S</td>\n",
       "      <td>Mrs.</td>\n",
       "    </tr>\n",
       "    <tr>\n",
       "      <td>10</td>\n",
       "      <td>1</td>\n",
       "      <td>2</td>\n",
       "      <td>Nasser, Mrs. Nicholas (Adele Achem)</td>\n",
       "      <td>female</td>\n",
       "      <td>14.0</td>\n",
       "      <td>1</td>\n",
       "      <td>0</td>\n",
       "      <td>237736</td>\n",
       "      <td>30.0708</td>\n",
       "      <td>C</td>\n",
       "      <td>Mrs.</td>\n",
       "    </tr>\n",
       "    <tr>\n",
       "      <td>11</td>\n",
       "      <td>1</td>\n",
       "      <td>3</td>\n",
       "      <td>Sandstrom, Miss. Marguerite Rut</td>\n",
       "      <td>female</td>\n",
       "      <td>4.0</td>\n",
       "      <td>1</td>\n",
       "      <td>1</td>\n",
       "      <td>PP 9549</td>\n",
       "      <td>16.7000</td>\n",
       "      <td>S</td>\n",
       "      <td>Miss.</td>\n",
       "    </tr>\n",
       "    <tr>\n",
       "      <td>12</td>\n",
       "      <td>1</td>\n",
       "      <td>1</td>\n",
       "      <td>Bonnell, Miss. Elizabeth</td>\n",
       "      <td>female</td>\n",
       "      <td>58.0</td>\n",
       "      <td>0</td>\n",
       "      <td>0</td>\n",
       "      <td>113783</td>\n",
       "      <td>26.5500</td>\n",
       "      <td>S</td>\n",
       "      <td>Miss.</td>\n",
       "    </tr>\n",
       "    <tr>\n",
       "      <td>13</td>\n",
       "      <td>0</td>\n",
       "      <td>3</td>\n",
       "      <td>Saundercock, Mr. William Henry</td>\n",
       "      <td>male</td>\n",
       "      <td>20.0</td>\n",
       "      <td>0</td>\n",
       "      <td>0</td>\n",
       "      <td>A/5. 2151</td>\n",
       "      <td>8.0500</td>\n",
       "      <td>S</td>\n",
       "      <td>Mr.</td>\n",
       "    </tr>\n",
       "    <tr>\n",
       "      <td>14</td>\n",
       "      <td>0</td>\n",
       "      <td>3</td>\n",
       "      <td>Andersson, Mr. Anders Johan</td>\n",
       "      <td>male</td>\n",
       "      <td>39.0</td>\n",
       "      <td>1</td>\n",
       "      <td>5</td>\n",
       "      <td>347082</td>\n",
       "      <td>31.2750</td>\n",
       "      <td>S</td>\n",
       "      <td>Mr.</td>\n",
       "    </tr>\n",
       "    <tr>\n",
       "      <td>15</td>\n",
       "      <td>0</td>\n",
       "      <td>3</td>\n",
       "      <td>Vestrom, Miss. Hulda Amanda Adolfina</td>\n",
       "      <td>female</td>\n",
       "      <td>14.0</td>\n",
       "      <td>0</td>\n",
       "      <td>0</td>\n",
       "      <td>350406</td>\n",
       "      <td>7.8542</td>\n",
       "      <td>S</td>\n",
       "      <td>Miss.</td>\n",
       "    </tr>\n",
       "    <tr>\n",
       "      <td>16</td>\n",
       "      <td>1</td>\n",
       "      <td>2</td>\n",
       "      <td>Hewlett, Mrs. (Mary D Kingcome)</td>\n",
       "      <td>female</td>\n",
       "      <td>55.0</td>\n",
       "      <td>0</td>\n",
       "      <td>0</td>\n",
       "      <td>248706</td>\n",
       "      <td>16.0000</td>\n",
       "      <td>S</td>\n",
       "      <td>Mrs.</td>\n",
       "    </tr>\n",
       "    <tr>\n",
       "      <td>17</td>\n",
       "      <td>0</td>\n",
       "      <td>3</td>\n",
       "      <td>Rice, Master. Eugene</td>\n",
       "      <td>male</td>\n",
       "      <td>2.0</td>\n",
       "      <td>4</td>\n",
       "      <td>1</td>\n",
       "      <td>382652</td>\n",
       "      <td>29.1250</td>\n",
       "      <td>Q</td>\n",
       "      <td>Master.</td>\n",
       "    </tr>\n",
       "    <tr>\n",
       "      <td>18</td>\n",
       "      <td>1</td>\n",
       "      <td>2</td>\n",
       "      <td>Williams, Mr. Charles Eugene</td>\n",
       "      <td>male</td>\n",
       "      <td>7.0</td>\n",
       "      <td>0</td>\n",
       "      <td>0</td>\n",
       "      <td>244373</td>\n",
       "      <td>13.0000</td>\n",
       "      <td>S</td>\n",
       "      <td>Mr.</td>\n",
       "    </tr>\n",
       "    <tr>\n",
       "      <td>19</td>\n",
       "      <td>0</td>\n",
       "      <td>3</td>\n",
       "      <td>Vander Planke, Mrs. Julius (Emelia Maria Vande...</td>\n",
       "      <td>female</td>\n",
       "      <td>31.0</td>\n",
       "      <td>1</td>\n",
       "      <td>0</td>\n",
       "      <td>345763</td>\n",
       "      <td>18.0000</td>\n",
       "      <td>S</td>\n",
       "      <td>Mrs.</td>\n",
       "    </tr>\n",
       "    <tr>\n",
       "      <td>20</td>\n",
       "      <td>1</td>\n",
       "      <td>3</td>\n",
       "      <td>Masselmani, Mrs. Fatima</td>\n",
       "      <td>female</td>\n",
       "      <td>11.0</td>\n",
       "      <td>0</td>\n",
       "      <td>0</td>\n",
       "      <td>2649</td>\n",
       "      <td>7.2250</td>\n",
       "      <td>C</td>\n",
       "      <td>Mrs.</td>\n",
       "    </tr>\n",
       "  </tbody>\n",
       "</table>\n",
       "</div>"
      ],
      "text/plain": [
       "             Survived  Pclass  \\\n",
       "PassengerId                     \n",
       "1                   0       3   \n",
       "2                   1       1   \n",
       "3                   1       3   \n",
       "4                   1       1   \n",
       "5                   0       3   \n",
       "6                   0       3   \n",
       "7                   0       1   \n",
       "8                   0       3   \n",
       "9                   1       3   \n",
       "10                  1       2   \n",
       "11                  1       3   \n",
       "12                  1       1   \n",
       "13                  0       3   \n",
       "14                  0       3   \n",
       "15                  0       3   \n",
       "16                  1       2   \n",
       "17                  0       3   \n",
       "18                  1       2   \n",
       "19                  0       3   \n",
       "20                  1       3   \n",
       "\n",
       "                                                          Name     Sex   Age  \\\n",
       "PassengerId                                                                    \n",
       "1                                      Braund, Mr. Owen Harris    male  22.0   \n",
       "2            Cumings, Mrs. John Bradley (Florence Briggs Th...  female  38.0   \n",
       "3                                       Heikkinen, Miss. Laina  female  26.0   \n",
       "4                 Futrelle, Mrs. Jacques Heath (Lily May Peel)  female  35.0   \n",
       "5                                     Allen, Mr. William Henry    male  35.0   \n",
       "6                                             Moran, Mr. James    male  37.0   \n",
       "7                                      McCarthy, Mr. Timothy J    male  54.0   \n",
       "8                               Palsson, Master. Gosta Leonard    male   2.0   \n",
       "9            Johnson, Mrs. Oscar W (Elisabeth Vilhelmina Berg)  female  27.0   \n",
       "10                         Nasser, Mrs. Nicholas (Adele Achem)  female  14.0   \n",
       "11                             Sandstrom, Miss. Marguerite Rut  female   4.0   \n",
       "12                                    Bonnell, Miss. Elizabeth  female  58.0   \n",
       "13                              Saundercock, Mr. William Henry    male  20.0   \n",
       "14                                 Andersson, Mr. Anders Johan    male  39.0   \n",
       "15                        Vestrom, Miss. Hulda Amanda Adolfina  female  14.0   \n",
       "16                            Hewlett, Mrs. (Mary D Kingcome)   female  55.0   \n",
       "17                                        Rice, Master. Eugene    male   2.0   \n",
       "18                                Williams, Mr. Charles Eugene    male   7.0   \n",
       "19           Vander Planke, Mrs. Julius (Emelia Maria Vande...  female  31.0   \n",
       "20                                     Masselmani, Mrs. Fatima  female  11.0   \n",
       "\n",
       "             SibSp  Parch            Ticket     Fare Embarked    Title  \n",
       "PassengerId                                                             \n",
       "1                1      0         A/5 21171   7.2500        S      Mr.  \n",
       "2                1      0          PC 17599  71.2833        C     Mrs.  \n",
       "3                0      0  STON/O2. 3101282   7.9250        S    Miss.  \n",
       "4                1      0            113803  53.1000        S     Mrs.  \n",
       "5                0      0            373450   8.0500        S      Mr.  \n",
       "6                0      0            330877   8.4583        Q      Mr.  \n",
       "7                0      0             17463  51.8625        S      Mr.  \n",
       "8                3      1            349909  21.0750        S  Master.  \n",
       "9                0      2            347742  11.1333        S     Mrs.  \n",
       "10               1      0            237736  30.0708        C     Mrs.  \n",
       "11               1      1           PP 9549  16.7000        S    Miss.  \n",
       "12               0      0            113783  26.5500        S    Miss.  \n",
       "13               0      0         A/5. 2151   8.0500        S      Mr.  \n",
       "14               1      5            347082  31.2750        S      Mr.  \n",
       "15               0      0            350406   7.8542        S    Miss.  \n",
       "16               0      0            248706  16.0000        S     Mrs.  \n",
       "17               4      1            382652  29.1250        Q  Master.  \n",
       "18               0      0            244373  13.0000        S      Mr.  \n",
       "19               1      0            345763  18.0000        S     Mrs.  \n",
       "20               0      0              2649   7.2250        C     Mrs.  "
      ]
     },
     "execution_count": 22,
     "metadata": {},
     "output_type": "execute_result"
    }
   ],
   "source": [
    "print(\"Liczba unikalnych rekordów zmiennej 'Ticket':  {} \\n\\n\".format(df_titanic[\"Ticket\"].unique().size))\n",
    "df_titanic.head(20)"
   ]
  },
  {
   "cell_type": "markdown",
   "metadata": {},
   "source": [
    "- Zmienne \"Survived\", \"Pclass\", \"Sex\", \"Embarked\", \"Title\" stanowią zmienne kategoryczne\n",
    "- Zmienna ticket zawiera 680 unikalnych rekordów - zdecydowano się na jej usunięcie"
   ]
  },
  {
   "cell_type": "code",
   "execution_count": 23,
   "metadata": {},
   "outputs": [
    {
     "name": "stdout",
     "output_type": "stream",
     "text": [
      "<class 'pandas.core.frame.DataFrame'>\n",
      "Int64Index: 889 entries, 1 to 891\n",
      "Data columns (total 10 columns):\n",
      "Survived    889 non-null category\n",
      "Pclass      889 non-null category\n",
      "Name        889 non-null object\n",
      "Sex         889 non-null category\n",
      "Age         889 non-null float64\n",
      "SibSp       889 non-null int64\n",
      "Parch       889 non-null int64\n",
      "Fare        889 non-null float64\n",
      "Embarked    889 non-null category\n",
      "Title       889 non-null category\n",
      "dtypes: category(5), float64(2), int64(2), object(1)\n",
      "memory usage: 47.2+ KB\n"
     ]
    }
   ],
   "source": [
    "# Zmiana typów zmiennych\n",
    "df_titanic = df_titanic.astype({\"Survived\": \"category\", \"Pclass\": \"category\", \n",
    "                   \"Sex\": \"category\", \"Embarked\": \"category\",\n",
    "                  \"Title\": \"category\"})\n",
    "\n",
    "# Usunięcie zmiennej Ticket\n",
    "df_titanic.drop(\"Ticket\", axis=1, inplace=True)\n",
    "\n",
    "df_titanic.info()"
   ]
  },
  {
   "cell_type": "code",
   "execution_count": 24,
   "metadata": {},
   "outputs": [
    {
     "data": {
      "text/html": [
       "<div>\n",
       "<style scoped>\n",
       "    .dataframe tbody tr th:only-of-type {\n",
       "        vertical-align: middle;\n",
       "    }\n",
       "\n",
       "    .dataframe tbody tr th {\n",
       "        vertical-align: top;\n",
       "    }\n",
       "\n",
       "    .dataframe thead th {\n",
       "        text-align: right;\n",
       "    }\n",
       "</style>\n",
       "<table border=\"1\" class=\"dataframe\">\n",
       "  <thead>\n",
       "    <tr style=\"text-align: right;\">\n",
       "      <th></th>\n",
       "      <th>Age</th>\n",
       "      <th>SibSp</th>\n",
       "      <th>Parch</th>\n",
       "      <th>Fare</th>\n",
       "    </tr>\n",
       "  </thead>\n",
       "  <tbody>\n",
       "    <tr>\n",
       "      <td>count</td>\n",
       "      <td>889.000000</td>\n",
       "      <td>889.000000</td>\n",
       "      <td>889.000000</td>\n",
       "      <td>889.000000</td>\n",
       "    </tr>\n",
       "    <tr>\n",
       "      <td>mean</td>\n",
       "      <td>29.584927</td>\n",
       "      <td>0.524184</td>\n",
       "      <td>0.382452</td>\n",
       "      <td>32.096681</td>\n",
       "    </tr>\n",
       "    <tr>\n",
       "      <td>std</td>\n",
       "      <td>14.241693</td>\n",
       "      <td>1.103705</td>\n",
       "      <td>0.806761</td>\n",
       "      <td>49.697504</td>\n",
       "    </tr>\n",
       "    <tr>\n",
       "      <td>min</td>\n",
       "      <td>1.000000</td>\n",
       "      <td>0.000000</td>\n",
       "      <td>0.000000</td>\n",
       "      <td>0.000000</td>\n",
       "    </tr>\n",
       "    <tr>\n",
       "      <td>25%</td>\n",
       "      <td>20.000000</td>\n",
       "      <td>0.000000</td>\n",
       "      <td>0.000000</td>\n",
       "      <td>7.895800</td>\n",
       "    </tr>\n",
       "    <tr>\n",
       "      <td>50%</td>\n",
       "      <td>28.000000</td>\n",
       "      <td>0.000000</td>\n",
       "      <td>0.000000</td>\n",
       "      <td>14.454200</td>\n",
       "    </tr>\n",
       "    <tr>\n",
       "      <td>75%</td>\n",
       "      <td>38.000000</td>\n",
       "      <td>1.000000</td>\n",
       "      <td>0.000000</td>\n",
       "      <td>31.000000</td>\n",
       "    </tr>\n",
       "    <tr>\n",
       "      <td>max</td>\n",
       "      <td>80.000000</td>\n",
       "      <td>8.000000</td>\n",
       "      <td>6.000000</td>\n",
       "      <td>512.329200</td>\n",
       "    </tr>\n",
       "  </tbody>\n",
       "</table>\n",
       "</div>"
      ],
      "text/plain": [
       "              Age       SibSp       Parch        Fare\n",
       "count  889.000000  889.000000  889.000000  889.000000\n",
       "mean    29.584927    0.524184    0.382452   32.096681\n",
       "std     14.241693    1.103705    0.806761   49.697504\n",
       "min      1.000000    0.000000    0.000000    0.000000\n",
       "25%     20.000000    0.000000    0.000000    7.895800\n",
       "50%     28.000000    0.000000    0.000000   14.454200\n",
       "75%     38.000000    1.000000    0.000000   31.000000\n",
       "max     80.000000    8.000000    6.000000  512.329200"
      ]
     },
     "execution_count": 24,
     "metadata": {},
     "output_type": "execute_result"
    }
   ],
   "source": [
    "# Wyświetlenie podstawowej statystyki dla zmiennych liczbowych\n",
    "df_titanic.describe()"
   ]
  },
  {
   "cell_type": "code",
   "execution_count": 25,
   "metadata": {},
   "outputs": [
    {
     "data": {
      "text/plain": [
       "Text(0, 0.5, 'Liczba rodzeństwa / małżonków na pokładzie')"
      ]
     },
     "execution_count": 25,
     "metadata": {},
     "output_type": "execute_result"
    },
    {
     "data": {
      "image/png": "[encoded data removed]",
      "text/plain": [
       "<Figure size 432x288 with 1 Axes>"
      ]
     },
     "metadata": {
      "needs_background": "light"
     },
     "output_type": "display_data"
    }
   ],
   "source": [
    "# Przygotowanie wykresu liczności wystąpień dla poszczególnych wartości zmiennej SibSp \n",
    "# (liczba rodzeństwa i małżonków na pokładzie)\n",
    "df_titanic[\"SibSp\"].value_counts().plot.barh()\n",
    "plt.title(\"Liczność dla zmiennej 'SibSp'\")\n",
    "plt.ylabel(\"Liczba rodzeństwa / małżonków na pokładzie\")"
   ]
  },
  {
   "cell_type": "markdown",
   "metadata": {},
   "source": [
    "Zdecydowana większość pasażerów podróżowała bez rodzeństwa lub żony/męża. "
   ]
  },
  {
   "cell_type": "code",
   "execution_count": 26,
   "metadata": {},
   "outputs": [
    {
     "data": {
      "text/plain": [
       "Text(0, 0.5, 'Liczba rodziców / dzieci na pokładzie')"
      ]
     },
     "execution_count": 26,
     "metadata": {},
     "output_type": "execute_result"
    },
    {
     "data": {
      "image/png": "[encoded data removed]",
      "text/plain": [
       "<Figure size 432x288 with 1 Axes>"
      ]
     },
     "metadata": {
      "needs_background": "light"
     },
     "output_type": "display_data"
    }
   ],
   "source": [
    "# Przygotowanie wykresu liczności wystąpień dla poszczególnych wartości zmiennej Parch\n",
    "# (liczba rodziców i dzieci na pokładzie)\n",
    "df_titanic[\"Parch\"].value_counts().plot.barh()\n",
    "plt.title(\"Liczność dla zmiennej 'Parch'\")\n",
    "plt.ylabel(\"Liczba rodziców / dzieci na pokładzie\")"
   ]
  },
  {
   "cell_type": "markdown",
   "metadata": {},
   "source": [
    "Zdecydowana większość pasażerów podróżowała bez dzieci/rodzica.<br> Zdecydowano się zestawić zmienne \"SibSp\" oraz \"Parch\" w postaci tabeli przestawnej by zweryfikować czy występują dominuące typy pasażerów."
   ]
  },
  {
   "cell_type": "code",
   "execution_count": 27,
   "metadata": {},
   "outputs": [
    {
     "data": {
      "text/html": [
       "<div>\n",
       "<style scoped>\n",
       "    .dataframe tbody tr th:only-of-type {\n",
       "        vertical-align: middle;\n",
       "    }\n",
       "\n",
       "    .dataframe tbody tr th {\n",
       "        vertical-align: top;\n",
       "    }\n",
       "\n",
       "    .dataframe thead th {\n",
       "        text-align: right;\n",
       "    }\n",
       "</style>\n",
       "<table border=\"1\" class=\"dataframe\">\n",
       "  <thead>\n",
       "    <tr style=\"text-align: right;\">\n",
       "      <th>Parch</th>\n",
       "      <th>0</th>\n",
       "      <th>1</th>\n",
       "      <th>2</th>\n",
       "      <th>3</th>\n",
       "      <th>4</th>\n",
       "      <th>5</th>\n",
       "      <th>6</th>\n",
       "    </tr>\n",
       "    <tr>\n",
       "      <th>SibSp</th>\n",
       "      <th></th>\n",
       "      <th></th>\n",
       "      <th></th>\n",
       "      <th></th>\n",
       "      <th></th>\n",
       "      <th></th>\n",
       "      <th></th>\n",
       "    </tr>\n",
       "  </thead>\n",
       "  <tbody>\n",
       "    <tr>\n",
       "      <td>0</td>\n",
       "      <td>535.0</td>\n",
       "      <td>38.0</td>\n",
       "      <td>29.0</td>\n",
       "      <td>1.0</td>\n",
       "      <td>1.0</td>\n",
       "      <td>2.0</td>\n",
       "      <td>NaN</td>\n",
       "    </tr>\n",
       "    <tr>\n",
       "      <td>1</td>\n",
       "      <td>123.0</td>\n",
       "      <td>57.0</td>\n",
       "      <td>19.0</td>\n",
       "      <td>3.0</td>\n",
       "      <td>3.0</td>\n",
       "      <td>3.0</td>\n",
       "      <td>1.0</td>\n",
       "    </tr>\n",
       "    <tr>\n",
       "      <td>2</td>\n",
       "      <td>16.0</td>\n",
       "      <td>7.0</td>\n",
       "      <td>4.0</td>\n",
       "      <td>1.0</td>\n",
       "      <td>NaN</td>\n",
       "      <td>NaN</td>\n",
       "      <td>NaN</td>\n",
       "    </tr>\n",
       "    <tr>\n",
       "      <td>3</td>\n",
       "      <td>2.0</td>\n",
       "      <td>7.0</td>\n",
       "      <td>7.0</td>\n",
       "      <td>NaN</td>\n",
       "      <td>NaN</td>\n",
       "      <td>NaN</td>\n",
       "      <td>NaN</td>\n",
       "    </tr>\n",
       "    <tr>\n",
       "      <td>4</td>\n",
       "      <td>NaN</td>\n",
       "      <td>9.0</td>\n",
       "      <td>9.0</td>\n",
       "      <td>NaN</td>\n",
       "      <td>NaN</td>\n",
       "      <td>NaN</td>\n",
       "      <td>NaN</td>\n",
       "    </tr>\n",
       "    <tr>\n",
       "      <td>5</td>\n",
       "      <td>NaN</td>\n",
       "      <td>NaN</td>\n",
       "      <td>5.0</td>\n",
       "      <td>NaN</td>\n",
       "      <td>NaN</td>\n",
       "      <td>NaN</td>\n",
       "      <td>NaN</td>\n",
       "    </tr>\n",
       "    <tr>\n",
       "      <td>8</td>\n",
       "      <td>NaN</td>\n",
       "      <td>NaN</td>\n",
       "      <td>7.0</td>\n",
       "      <td>NaN</td>\n",
       "      <td>NaN</td>\n",
       "      <td>NaN</td>\n",
       "      <td>NaN</td>\n",
       "    </tr>\n",
       "  </tbody>\n",
       "</table>\n",
       "</div>"
      ],
      "text/plain": [
       "Parch      0     1     2    3    4    5    6\n",
       "SibSp                                       \n",
       "0      535.0  38.0  29.0  1.0  1.0  2.0  NaN\n",
       "1      123.0  57.0  19.0  3.0  3.0  3.0  1.0\n",
       "2       16.0   7.0   4.0  1.0  NaN  NaN  NaN\n",
       "3        2.0   7.0   7.0  NaN  NaN  NaN  NaN\n",
       "4        NaN   9.0   9.0  NaN  NaN  NaN  NaN\n",
       "5        NaN   NaN   5.0  NaN  NaN  NaN  NaN\n",
       "8        NaN   NaN   7.0  NaN  NaN  NaN  NaN"
      ]
     },
     "execution_count": 27,
     "metadata": {},
     "output_type": "execute_result"
    }
   ],
   "source": [
    "# Zestawienie tablicy przestawnej dla zmiennych SibSp i Parch\n",
    "pd.pivot_table(df_titanic[[\"SibSp\", \"Parch\"]], index=\"SibSp\", columns=\"Parch\", aggfunc=len)"
   ]
  },
  {
   "cell_type": "markdown",
   "metadata": {},
   "source": [
    "Aż 535 pasażerów podróżowało zupełnie samotnie. Zdecydowano się na stworzenie nowej zmiennej \"Solo\" w przypadku gdy dany pasażer podróżował samotnie - przyjmuje ona wartość 1"
   ]
  },
  {
   "cell_type": "code",
   "execution_count": 28,
   "metadata": {},
   "outputs": [],
   "source": [
    "# Stworzenie nowej zmiennej Solo\n",
    "df_titanic[\"Solo\"] = ((df_titanic[\"SibSp\"] == 0) & (df_titanic[\"Parch\"] == 0)).astype(\"category\")"
   ]
  },
  {
   "cell_type": "code",
   "execution_count": 29,
   "metadata": {},
   "outputs": [
    {
     "data": {
      "text/plain": [
       "True     535\n",
       "False    354\n",
       "Name: Solo, dtype: int64"
      ]
     },
     "execution_count": 29,
     "metadata": {},
     "output_type": "execute_result"
    }
   ],
   "source": [
    "df_titanic.Solo.value_counts()"
   ]
  },
  {
   "cell_type": "code",
   "execution_count": 30,
   "metadata": {},
   "outputs": [
    {
     "data": {
      "image/png": "[encoded data removed]",
      "text/plain": [
       "<Figure size 720x720 with 1 Axes>"
      ]
     },
     "metadata": {
      "needs_background": "light"
     },
     "output_type": "display_data"
    },
    {
     "data": {
      "image/png": "[encoded data removed]",
      "text/plain": [
       "<Figure size 720x720 with 1 Axes>"
      ]
     },
     "metadata": {
      "needs_background": "light"
     },
     "output_type": "display_data"
    },
    {
     "data": {
      "image/png": "[encoded data removed]",
      "text/plain": [
       "<Figure size 720x720 with 1 Axes>"
      ]
     },
     "metadata": {
      "needs_background": "light"
     },
     "output_type": "display_data"
    }
   ],
   "source": [
    "for pclass in range(1,4):\n",
    "    plt.figure(figsize=(10,10))\n",
    "    sns.scatterplot(data = df_titanic[df_titanic[\"Pclass\"]==pclass], hue=\"Survived\", x=\"Age\", y=\"Fare\")\n",
    "    plt.title(\"Pclass {}\".format(pclass))"
   ]
  },
  {
   "cell_type": "code",
   "execution_count": 31,
   "metadata": {},
   "outputs": [
    {
     "data": {
      "text/plain": [
       "<matplotlib.axes._subplots.AxesSubplot at 0x15712eba588>"
      ]
     },
     "execution_count": 31,
     "metadata": {},
     "output_type": "execute_result"
    },
    {
     "data": {
      "image/png": "[encoded data removed]",
      "text/plain": [
       "<Figure size 720x720 with 1 Axes>"
      ]
     },
     "metadata": {
      "needs_background": "light"
     },
     "output_type": "display_data"
    }
   ],
   "source": [
    "plt.figure(figsize=(10,10))\n",
    "sns.boxplot(data=df_titanic,x=\"Pclass\", y=\"Fare\", hue=\"Survived\", orient=\"v\")"
   ]
  },
  {
   "cell_type": "markdown",
   "metadata": {},
   "source": [
    "Wykresy rozrzutu przedstawiają osobno pasażerów każdej z klas biletów pod kątem wieku i ceny biletu. Kolorystycznie przedstawiono czy dany pasażer przeżył czy też zginął w katastrofie. W przypadku klasy 1 można zauważyć dwie wartości zdecydowanie odstające od reszty rezultatów pod kątem ceny biletu. Potwierdza to również boxplot. Zdecydowano się na usnięcie tych rekordów. "
   ]
  },
  {
   "cell_type": "code",
   "execution_count": 32,
   "metadata": {},
   "outputs": [],
   "source": [
    "# Usunięcie wartości odstających - Cena biletu powyżej 300 dolarów\n",
    "df_titanic.drop(df_titanic[df_titanic[\"Fare\"] > 300].index, axis=0, inplace=True)"
   ]
  },
  {
   "cell_type": "code",
   "execution_count": 33,
   "metadata": {},
   "outputs": [
    {
     "data": {
      "text/html": [
       "<div>\n",
       "<style scoped>\n",
       "    .dataframe tbody tr th:only-of-type {\n",
       "        vertical-align: middle;\n",
       "    }\n",
       "\n",
       "    .dataframe tbody tr th {\n",
       "        vertical-align: top;\n",
       "    }\n",
       "\n",
       "    .dataframe thead th {\n",
       "        text-align: right;\n",
       "    }\n",
       "</style>\n",
       "<table border=\"1\" class=\"dataframe\">\n",
       "  <thead>\n",
       "    <tr style=\"text-align: right;\">\n",
       "      <th></th>\n",
       "      <th>Survived</th>\n",
       "      <th>Pclass</th>\n",
       "      <th>Name</th>\n",
       "      <th>Sex</th>\n",
       "      <th>Age</th>\n",
       "      <th>SibSp</th>\n",
       "      <th>Parch</th>\n",
       "      <th>Fare</th>\n",
       "      <th>Embarked</th>\n",
       "      <th>Title</th>\n",
       "      <th>Solo</th>\n",
       "    </tr>\n",
       "    <tr>\n",
       "      <th>PassengerId</th>\n",
       "      <th></th>\n",
       "      <th></th>\n",
       "      <th></th>\n",
       "      <th></th>\n",
       "      <th></th>\n",
       "      <th></th>\n",
       "      <th></th>\n",
       "      <th></th>\n",
       "      <th></th>\n",
       "      <th></th>\n",
       "      <th></th>\n",
       "    </tr>\n",
       "  </thead>\n",
       "  <tbody>\n",
       "    <tr>\n",
       "      <td>180</td>\n",
       "      <td>0</td>\n",
       "      <td>3</td>\n",
       "      <td>Leonard, Mr. Lionel</td>\n",
       "      <td>male</td>\n",
       "      <td>36.0</td>\n",
       "      <td>0</td>\n",
       "      <td>0</td>\n",
       "      <td>0.0</td>\n",
       "      <td>S</td>\n",
       "      <td>Mr.</td>\n",
       "      <td>True</td>\n",
       "    </tr>\n",
       "    <tr>\n",
       "      <td>264</td>\n",
       "      <td>0</td>\n",
       "      <td>1</td>\n",
       "      <td>Harrison, Mr. William</td>\n",
       "      <td>male</td>\n",
       "      <td>40.0</td>\n",
       "      <td>0</td>\n",
       "      <td>0</td>\n",
       "      <td>0.0</td>\n",
       "      <td>S</td>\n",
       "      <td>Mr.</td>\n",
       "      <td>True</td>\n",
       "    </tr>\n",
       "    <tr>\n",
       "      <td>272</td>\n",
       "      <td>1</td>\n",
       "      <td>3</td>\n",
       "      <td>Tornquist, Mr. William Henry</td>\n",
       "      <td>male</td>\n",
       "      <td>25.0</td>\n",
       "      <td>0</td>\n",
       "      <td>0</td>\n",
       "      <td>0.0</td>\n",
       "      <td>S</td>\n",
       "      <td>Mr.</td>\n",
       "      <td>True</td>\n",
       "    </tr>\n",
       "    <tr>\n",
       "      <td>278</td>\n",
       "      <td>0</td>\n",
       "      <td>2</td>\n",
       "      <td>Parkes, Mr. Francis \"Frank\"</td>\n",
       "      <td>male</td>\n",
       "      <td>54.0</td>\n",
       "      <td>0</td>\n",
       "      <td>0</td>\n",
       "      <td>0.0</td>\n",
       "      <td>S</td>\n",
       "      <td>Mr.</td>\n",
       "      <td>True</td>\n",
       "    </tr>\n",
       "    <tr>\n",
       "      <td>303</td>\n",
       "      <td>0</td>\n",
       "      <td>3</td>\n",
       "      <td>Johnson, Mr. William Cahoone Jr</td>\n",
       "      <td>male</td>\n",
       "      <td>19.0</td>\n",
       "      <td>0</td>\n",
       "      <td>0</td>\n",
       "      <td>0.0</td>\n",
       "      <td>S</td>\n",
       "      <td>Mr.</td>\n",
       "      <td>True</td>\n",
       "    </tr>\n",
       "    <tr>\n",
       "      <td>414</td>\n",
       "      <td>0</td>\n",
       "      <td>2</td>\n",
       "      <td>Cunningham, Mr. Alfred Fleming</td>\n",
       "      <td>male</td>\n",
       "      <td>41.0</td>\n",
       "      <td>0</td>\n",
       "      <td>0</td>\n",
       "      <td>0.0</td>\n",
       "      <td>S</td>\n",
       "      <td>Mr.</td>\n",
       "      <td>True</td>\n",
       "    </tr>\n",
       "    <tr>\n",
       "      <td>467</td>\n",
       "      <td>0</td>\n",
       "      <td>2</td>\n",
       "      <td>Campbell, Mr. William</td>\n",
       "      <td>male</td>\n",
       "      <td>12.0</td>\n",
       "      <td>0</td>\n",
       "      <td>0</td>\n",
       "      <td>0.0</td>\n",
       "      <td>S</td>\n",
       "      <td>Mr.</td>\n",
       "      <td>True</td>\n",
       "    </tr>\n",
       "    <tr>\n",
       "      <td>482</td>\n",
       "      <td>0</td>\n",
       "      <td>2</td>\n",
       "      <td>Frost, Mr. Anthony Wood \"Archie\"</td>\n",
       "      <td>male</td>\n",
       "      <td>31.0</td>\n",
       "      <td>0</td>\n",
       "      <td>0</td>\n",
       "      <td>0.0</td>\n",
       "      <td>S</td>\n",
       "      <td>Mr.</td>\n",
       "      <td>True</td>\n",
       "    </tr>\n",
       "    <tr>\n",
       "      <td>598</td>\n",
       "      <td>0</td>\n",
       "      <td>3</td>\n",
       "      <td>Johnson, Mr. Alfred</td>\n",
       "      <td>male</td>\n",
       "      <td>49.0</td>\n",
       "      <td>0</td>\n",
       "      <td>0</td>\n",
       "      <td>0.0</td>\n",
       "      <td>S</td>\n",
       "      <td>Mr.</td>\n",
       "      <td>True</td>\n",
       "    </tr>\n",
       "    <tr>\n",
       "      <td>634</td>\n",
       "      <td>0</td>\n",
       "      <td>1</td>\n",
       "      <td>Parr, Mr. William Henry Marsh</td>\n",
       "      <td>male</td>\n",
       "      <td>55.0</td>\n",
       "      <td>0</td>\n",
       "      <td>0</td>\n",
       "      <td>0.0</td>\n",
       "      <td>S</td>\n",
       "      <td>Mr.</td>\n",
       "      <td>True</td>\n",
       "    </tr>\n",
       "    <tr>\n",
       "      <td>675</td>\n",
       "      <td>0</td>\n",
       "      <td>2</td>\n",
       "      <td>Watson, Mr. Ennis Hastings</td>\n",
       "      <td>male</td>\n",
       "      <td>37.0</td>\n",
       "      <td>0</td>\n",
       "      <td>0</td>\n",
       "      <td>0.0</td>\n",
       "      <td>S</td>\n",
       "      <td>Mr.</td>\n",
       "      <td>True</td>\n",
       "    </tr>\n",
       "    <tr>\n",
       "      <td>733</td>\n",
       "      <td>0</td>\n",
       "      <td>2</td>\n",
       "      <td>Knight, Mr. Robert J</td>\n",
       "      <td>male</td>\n",
       "      <td>32.0</td>\n",
       "      <td>0</td>\n",
       "      <td>0</td>\n",
       "      <td>0.0</td>\n",
       "      <td>S</td>\n",
       "      <td>Mr.</td>\n",
       "      <td>True</td>\n",
       "    </tr>\n",
       "    <tr>\n",
       "      <td>807</td>\n",
       "      <td>0</td>\n",
       "      <td>1</td>\n",
       "      <td>Andrews, Mr. Thomas Jr</td>\n",
       "      <td>male</td>\n",
       "      <td>39.0</td>\n",
       "      <td>0</td>\n",
       "      <td>0</td>\n",
       "      <td>0.0</td>\n",
       "      <td>S</td>\n",
       "      <td>Mr.</td>\n",
       "      <td>True</td>\n",
       "    </tr>\n",
       "    <tr>\n",
       "      <td>816</td>\n",
       "      <td>0</td>\n",
       "      <td>1</td>\n",
       "      <td>Fry, Mr. Richard</td>\n",
       "      <td>male</td>\n",
       "      <td>38.0</td>\n",
       "      <td>0</td>\n",
       "      <td>0</td>\n",
       "      <td>0.0</td>\n",
       "      <td>S</td>\n",
       "      <td>Mr.</td>\n",
       "      <td>True</td>\n",
       "    </tr>\n",
       "    <tr>\n",
       "      <td>823</td>\n",
       "      <td>0</td>\n",
       "      <td>1</td>\n",
       "      <td>Reuchlin, Jonkheer. John George</td>\n",
       "      <td>male</td>\n",
       "      <td>38.0</td>\n",
       "      <td>0</td>\n",
       "      <td>0</td>\n",
       "      <td>0.0</td>\n",
       "      <td>S</td>\n",
       "      <td>Jonkheer.</td>\n",
       "      <td>True</td>\n",
       "    </tr>\n",
       "  </tbody>\n",
       "</table>\n",
       "</div>"
      ],
      "text/plain": [
       "            Survived Pclass                              Name   Sex   Age  \\\n",
       "PassengerId                                                                 \n",
       "180                0      3               Leonard, Mr. Lionel  male  36.0   \n",
       "264                0      1             Harrison, Mr. William  male  40.0   \n",
       "272                1      3      Tornquist, Mr. William Henry  male  25.0   \n",
       "278                0      2       Parkes, Mr. Francis \"Frank\"  male  54.0   \n",
       "303                0      3   Johnson, Mr. William Cahoone Jr  male  19.0   \n",
       "414                0      2    Cunningham, Mr. Alfred Fleming  male  41.0   \n",
       "467                0      2             Campbell, Mr. William  male  12.0   \n",
       "482                0      2  Frost, Mr. Anthony Wood \"Archie\"  male  31.0   \n",
       "598                0      3               Johnson, Mr. Alfred  male  49.0   \n",
       "634                0      1     Parr, Mr. William Henry Marsh  male  55.0   \n",
       "675                0      2        Watson, Mr. Ennis Hastings  male  37.0   \n",
       "733                0      2              Knight, Mr. Robert J  male  32.0   \n",
       "807                0      1            Andrews, Mr. Thomas Jr  male  39.0   \n",
       "816                0      1                  Fry, Mr. Richard  male  38.0   \n",
       "823                0      1   Reuchlin, Jonkheer. John George  male  38.0   \n",
       "\n",
       "             SibSp  Parch  Fare Embarked      Title  Solo  \n",
       "PassengerId                                                \n",
       "180              0      0   0.0        S        Mr.  True  \n",
       "264              0      0   0.0        S        Mr.  True  \n",
       "272              0      0   0.0        S        Mr.  True  \n",
       "278              0      0   0.0        S        Mr.  True  \n",
       "303              0      0   0.0        S        Mr.  True  \n",
       "414              0      0   0.0        S        Mr.  True  \n",
       "467              0      0   0.0        S        Mr.  True  \n",
       "482              0      0   0.0        S        Mr.  True  \n",
       "598              0      0   0.0        S        Mr.  True  \n",
       "634              0      0   0.0        S        Mr.  True  \n",
       "675              0      0   0.0        S        Mr.  True  \n",
       "733              0      0   0.0        S        Mr.  True  \n",
       "807              0      0   0.0        S        Mr.  True  \n",
       "816              0      0   0.0        S        Mr.  True  \n",
       "823              0      0   0.0        S  Jonkheer.  True  "
      ]
     },
     "execution_count": 33,
     "metadata": {},
     "output_type": "execute_result"
    }
   ],
   "source": [
    "# Sprawdzenie pasażerów płynących za darmo\n",
    "df_titanic[df_titanic[\"Fare\"] == 0]"
   ]
  },
  {
   "cell_type": "markdown",
   "metadata": {},
   "source": [
    "Pasażerowie podróżujący za darmo mają podobne cechy - port, samotna podróż. Zdecydowano utworzyć się dodatkową zmienną \"Crew\", domniejmując że pasażerowie podróżujący za darmo należeli do załogi. "
   ]
  },
  {
   "cell_type": "code",
   "execution_count": 34,
   "metadata": {},
   "outputs": [],
   "source": [
    "# Stworzenie nowej zmiennej - przynależność do załogi gdy cena biletu = 0\n",
    "df_titanic[\"Crew\"] = df_titanic[\"Fare\"] == 0"
   ]
  },
  {
   "cell_type": "code",
   "execution_count": 35,
   "metadata": {},
   "outputs": [
    {
     "data": {
      "text/plain": [
       "Text(0.5, 1.0, 'Przeżywalność ze względu na klasę oraz wiek')"
      ]
     },
     "execution_count": 35,
     "metadata": {},
     "output_type": "execute_result"
    },
    {
     "data": {
      "image/png": "[encoded data removed]",
      "text/plain": [
       "<Figure size 432x288 with 1 Axes>"
      ]
     },
     "metadata": {
      "needs_background": "light"
     },
     "output_type": "display_data"
    }
   ],
   "source": [
    "# Wykres roju z podziałem na klasy pasażerów oraz czy przeżyli katastrofę\n",
    "sns.swarmplot(data = df_titanic, x=\"Pclass\", y=\"Age\", hue=\"Survived\")\n",
    "plt.title(\"Przeżywalność ze względu na klasę oraz wiek\")"
   ]
  },
  {
   "cell_type": "code",
   "execution_count": 36,
   "metadata": {},
   "outputs": [
    {
     "data": {
      "text/plain": [
       "Text(0.5, 1.0, 'Przeżywalność ze względu na fakt samotnej podróży oraz wiek')"
      ]
     },
     "execution_count": 36,
     "metadata": {},
     "output_type": "execute_result"
    },
    {
     "data": {
      "image/png": "[encoded data removed]",
      "text/plain": [
       "<Figure size 432x288 with 1 Axes>"
      ]
     },
     "metadata": {
      "needs_background": "light"
     },
     "output_type": "display_data"
    }
   ],
   "source": [
    "sns.swarmplot(data=df_titanic, x=\"Solo\", y=\"Age\", hue=\"Survived\")\n",
    "plt.title(\"Przeżywalność ze względu na fakt samotnej podróży oraz wiek\")"
   ]
  },
  {
   "cell_type": "code",
   "execution_count": 37,
   "metadata": {},
   "outputs": [
    {
     "data": {
      "image/png": "[encoded data removed]",
      "text/plain": [
       "<Figure size 504x504 with 1 Axes>"
      ]
     },
     "metadata": {
      "needs_background": "light"
     },
     "output_type": "display_data"
    },
    {
     "data": {
      "image/png": "[encoded data removed]",
      "text/plain": [
       "<Figure size 504x504 with 1 Axes>"
      ]
     },
     "metadata": {
      "needs_background": "light"
     },
     "output_type": "display_data"
    }
   ],
   "source": [
    "for col in [\"Embarked\", \"Sex\"]:\n",
    "    plt.figure(figsize=(7, 7))\n",
    "    labels_list = df_titanic[col].cat.categories\n",
    "    survived_yes = df_titanic.loc[df_titanic[\"Survived\"] == 1][col].value_counts()\n",
    "    survived_no = df_titanic.loc[df_titanic[\"Survived\"] == 0][col].value_counts()\n",
    "    survived = survived_yes + survived_no\n",
    "    bar_yes = plt.bar(x=labels_list, height=survived_yes * 100 / survived)\n",
    "    bar_no = plt.bar(x=labels_list, height=survived_no * 100 / survived, bottom=survived_yes * 100 / survived)\n",
    "    plt.legend([\"Survived\", \"Died\"])\n",
    "    plt.title(str(col))\n",
    "\n",
    "    for bar in bar_yes:\n",
    "        width, height = bar.get_width(), bar.get_height()\n",
    "        x, y = bar.get_xy()\n",
    "        plt.annotate('{0:.0f} %'.format(height), (x + width / 4, y + height + 0.01))\n",
    "\n",
    "    for i, bar in enumerate(bar_no):\n",
    "        width, height = bar.get_width(), bar.get_height()\n",
    "        x, y = bar.get_xy()\n",
    "        plt.annotate('{0:d}'.format(survived[i]), (x + width / 4, y + height + 0.1))\n",
    "\n",
    "    plt.margins(y=0.3, tight=True)\n",
    "    plt.tight_layout()\n",
    "    plt.show()"
   ]
  },
  {
   "cell_type": "markdown",
   "metadata": {},
   "source": [
    "- Można zauważyć dużo większą przeżywalność wśród kobiet.\n",
    "- Podróżowanie solo (w kontekście więzi rodzinnych z osobami na pokładzie) też wydaje się wpływać na szansę na przeżycie.\n",
    "- Widać zależność między podróżowaniem w poszczególnych klasach - im wyższa klasa tym szanse na ocalenie wydają się większe. \n",
    "- Port zaokrętowania wydaje się nie mieć większego wpływu na szansę na przeżycie, jedynie pasażerowie zaokrętowani w Queenstown wydają się mieć potencjalnie większą szansę na przeżycie."
   ]
  },
  {
   "cell_type": "markdown",
   "metadata": {},
   "source": [
    "# 4. Feature engineering"
   ]
  },
  {
   "cell_type": "code",
   "execution_count": 38,
   "metadata": {},
   "outputs": [
    {
     "data": {
      "text/html": [
       "<div>\n",
       "<style scoped>\n",
       "    .dataframe tbody tr th:only-of-type {\n",
       "        vertical-align: middle;\n",
       "    }\n",
       "\n",
       "    .dataframe tbody tr th {\n",
       "        vertical-align: top;\n",
       "    }\n",
       "\n",
       "    .dataframe thead th {\n",
       "        text-align: right;\n",
       "    }\n",
       "</style>\n",
       "<table border=\"1\" class=\"dataframe\">\n",
       "  <thead>\n",
       "    <tr style=\"text-align: right;\">\n",
       "      <th></th>\n",
       "      <th>Survived</th>\n",
       "      <th>Pclass</th>\n",
       "      <th>Name</th>\n",
       "      <th>Sex</th>\n",
       "      <th>Age</th>\n",
       "      <th>SibSp</th>\n",
       "      <th>Parch</th>\n",
       "      <th>Fare</th>\n",
       "      <th>Embarked</th>\n",
       "      <th>Title</th>\n",
       "      <th>Solo</th>\n",
       "      <th>Crew</th>\n",
       "    </tr>\n",
       "    <tr>\n",
       "      <th>PassengerId</th>\n",
       "      <th></th>\n",
       "      <th></th>\n",
       "      <th></th>\n",
       "      <th></th>\n",
       "      <th></th>\n",
       "      <th></th>\n",
       "      <th></th>\n",
       "      <th></th>\n",
       "      <th></th>\n",
       "      <th></th>\n",
       "      <th></th>\n",
       "      <th></th>\n",
       "    </tr>\n",
       "  </thead>\n",
       "  <tbody>\n",
       "    <tr>\n",
       "      <td>1</td>\n",
       "      <td>0</td>\n",
       "      <td>3</td>\n",
       "      <td>Braund, Mr. Owen Harris</td>\n",
       "      <td>male</td>\n",
       "      <td>22.0</td>\n",
       "      <td>1</td>\n",
       "      <td>0</td>\n",
       "      <td>7.2500</td>\n",
       "      <td>S</td>\n",
       "      <td>Mr.</td>\n",
       "      <td>False</td>\n",
       "      <td>False</td>\n",
       "    </tr>\n",
       "    <tr>\n",
       "      <td>2</td>\n",
       "      <td>1</td>\n",
       "      <td>1</td>\n",
       "      <td>Cumings, Mrs. John Bradley (Florence Briggs Th...</td>\n",
       "      <td>female</td>\n",
       "      <td>38.0</td>\n",
       "      <td>1</td>\n",
       "      <td>0</td>\n",
       "      <td>71.2833</td>\n",
       "      <td>C</td>\n",
       "      <td>Mrs.</td>\n",
       "      <td>False</td>\n",
       "      <td>False</td>\n",
       "    </tr>\n",
       "    <tr>\n",
       "      <td>3</td>\n",
       "      <td>1</td>\n",
       "      <td>3</td>\n",
       "      <td>Heikkinen, Miss. Laina</td>\n",
       "      <td>female</td>\n",
       "      <td>26.0</td>\n",
       "      <td>0</td>\n",
       "      <td>0</td>\n",
       "      <td>7.9250</td>\n",
       "      <td>S</td>\n",
       "      <td>Miss.</td>\n",
       "      <td>True</td>\n",
       "      <td>False</td>\n",
       "    </tr>\n",
       "    <tr>\n",
       "      <td>4</td>\n",
       "      <td>1</td>\n",
       "      <td>1</td>\n",
       "      <td>Futrelle, Mrs. Jacques Heath (Lily May Peel)</td>\n",
       "      <td>female</td>\n",
       "      <td>35.0</td>\n",
       "      <td>1</td>\n",
       "      <td>0</td>\n",
       "      <td>53.1000</td>\n",
       "      <td>S</td>\n",
       "      <td>Mrs.</td>\n",
       "      <td>False</td>\n",
       "      <td>False</td>\n",
       "    </tr>\n",
       "    <tr>\n",
       "      <td>5</td>\n",
       "      <td>0</td>\n",
       "      <td>3</td>\n",
       "      <td>Allen, Mr. William Henry</td>\n",
       "      <td>male</td>\n",
       "      <td>35.0</td>\n",
       "      <td>0</td>\n",
       "      <td>0</td>\n",
       "      <td>8.0500</td>\n",
       "      <td>S</td>\n",
       "      <td>Mr.</td>\n",
       "      <td>True</td>\n",
       "      <td>False</td>\n",
       "    </tr>\n",
       "  </tbody>\n",
       "</table>\n",
       "</div>"
      ],
      "text/plain": [
       "            Survived Pclass  \\\n",
       "PassengerId                   \n",
       "1                  0      3   \n",
       "2                  1      1   \n",
       "3                  1      3   \n",
       "4                  1      1   \n",
       "5                  0      3   \n",
       "\n",
       "                                                          Name     Sex   Age  \\\n",
       "PassengerId                                                                    \n",
       "1                                      Braund, Mr. Owen Harris    male  22.0   \n",
       "2            Cumings, Mrs. John Bradley (Florence Briggs Th...  female  38.0   \n",
       "3                                       Heikkinen, Miss. Laina  female  26.0   \n",
       "4                 Futrelle, Mrs. Jacques Heath (Lily May Peel)  female  35.0   \n",
       "5                                     Allen, Mr. William Henry    male  35.0   \n",
       "\n",
       "             SibSp  Parch     Fare Embarked  Title   Solo   Crew  \n",
       "PassengerId                                                       \n",
       "1                1      0   7.2500        S    Mr.  False  False  \n",
       "2                1      0  71.2833        C   Mrs.  False  False  \n",
       "3                0      0   7.9250        S  Miss.   True  False  \n",
       "4                1      0  53.1000        S   Mrs.  False  False  \n",
       "5                0      0   8.0500        S    Mr.   True  False  "
      ]
     },
     "execution_count": 38,
     "metadata": {},
     "output_type": "execute_result"
    }
   ],
   "source": [
    "# Stworzenie deep copy ramki danych\n",
    "df = df_titanic.copy()\n",
    "df.head()"
   ]
  },
  {
   "cell_type": "markdown",
   "metadata": {},
   "source": [
    "Zdecydowano się na kilka operacji na zmiennych:\n",
    "- Zamiana zmiennej \"Sex\" na binarną \"Female - gdzie 1 oznacza kobietę, 0 - mężczyznę\n",
    "- Binaryzacja zmiennych \"Crew\", \"Solo\" - 1 - tak, 0 - nie\n",
    "- Wyodrębnienie tytułów pasażerów występujących najczęściej i zaklasyfikowanie pozostałych jako Others. Następnie zdecydowano się na binaryzację z wykorzystaniem metody One-Hot Encoding pomijając zmienną \"Title_Other\"\n",
    "- Zmiana zmiennej \"Embarked\" na zmienną binarną \"Embarked_Q\" - 1 gdy pasażer okrętował się w Queenstown, 0 - w innym porcie\n",
    "- Stworzenie zmiennej będącej kwadratem wartości wieku\n",
    "- Usunięcie zmiennych \"Name\", \"Title\""
   ]
  },
  {
   "cell_type": "code",
   "execution_count": 39,
   "metadata": {},
   "outputs": [],
   "source": [
    "# Zmiana zmiennej \"Sex\" na zmienną binarną \"Female\"\n",
    "df.rename(columns={\"Sex\": \"Female\"}, inplace=True)\n",
    "df[\"Female\"] = df[\"Female\"].replace(to_replace={\"female\": 1, \"male\": 0})"
   ]
  },
  {
   "cell_type": "code",
   "execution_count": 40,
   "metadata": {},
   "outputs": [],
   "source": [
    "# Binaryzacja zmiennych \"Crew\" oraz \"Solo\"\n",
    "for col in [\"Crew\", \"Solo\"]:\n",
    "    df[col] = pd.factorize(df[col])[0]"
   ]
  },
  {
   "cell_type": "code",
   "execution_count": 41,
   "metadata": {},
   "outputs": [],
   "source": [
    "# Wyodrębnienie kategorii \"Other\" dla zmiennej \"Title\" w przypadku gdy tytuł nie należy do listy \n",
    "# \"Mrs.\", \"Miss.\", \"Mr.\", \"Master.\"\n",
    "\n",
    "# Zamiana typu zmiennej na object\n",
    "df[\"Title\"] = df[\"Title\"].astype(\"object\")\n",
    "\n",
    "# Ustawienie nowej wartości dla tytułów nie należących do listy\n",
    "df.loc[~df[\"Title\"].isin([\"Mrs.\", \"Miss.\", \"Mr.\", \"Master.\"]), \"Title\"] = \"Other\"\n",
    "\n",
    "# Powrót do typu zmiennej będącej kategorią\n",
    "df[\"Title\"] = df[\"Title\"].astype(\"category\")\n",
    "\n",
    "# Zmiana zmiennej \"Title\" na zmienne binarne\n",
    "dummy_title = pd.get_dummies(df[\"Title\"], prefix=\"Title\")\n",
    "\n",
    "# Odrzucenie zmiennej \"Title_Other\" - One-hot Encoding\n",
    "dummy_title.drop(\"Title_Other\", axis=1, inplace=True)\n",
    "# Dodanie nowych kolumn do istniejącego zbioru\n",
    "df = pd.concat((df, dummy_title), axis=1)"
   ]
  },
  {
   "cell_type": "code",
   "execution_count": 42,
   "metadata": {},
   "outputs": [],
   "source": [
    "# Zmiana zmiennej \"Embarked\" na zmienną \"Embarked_Q\" wskazującą czy dany pasażer okrętowałe się w Queenstown\n",
    "df.rename(columns={\"Embarked\": \"Embarked_Q\"}, inplace=True)\n",
    "df[\"Embarked_Q\"] = df[\"Embarked_Q\"].replace(to_replace={\"Q\": 1, \"S\": 0, \"C\": 0})"
   ]
  },
  {
   "cell_type": "code",
   "execution_count": 43,
   "metadata": {},
   "outputs": [],
   "source": [
    "# Dodanie zmiennej będącej kwadratem wieku\n",
    "df[\"Age_2\"] = df[\"Age\"] ** 2"
   ]
  },
  {
   "cell_type": "code",
   "execution_count": 44,
   "metadata": {},
   "outputs": [],
   "source": [
    "# Odrzucenie zmiennych \"Name\" oraz \"Title\"\n",
    "df.drop([\"Title\", \"Name\"], axis=1, inplace=True)"
   ]
  },
  {
   "cell_type": "markdown",
   "metadata": {},
   "source": [
    "# 5. Modelowanie"
   ]
  },
  {
   "cell_type": "markdown",
   "metadata": {},
   "source": [
    "Zdecydowano się na wykorzystanie trzech rodzajów modelów:\n",
    "- regresji logistycznej poprzedzonej normalizacją według metody MinMax\n",
    "- metody lasów losowych - Random Forest\n",
    "- metody xGBoost\n",
    "\n",
    "Dodatkowo w celu kalibracji hiperparametrów zdecydowano się na wykorzystanie metody GridSearch dla każdego z estymatorów by znaleźć najlepszy rezultat dla metryki AUC (area under ROC curve) w procesie Cross Validation dla 5 prób (foldów). \n",
    "\n",
    "Ponadto sprawdzono podejście z jednym modelem dla całego zbioru oraz uczenie oparte na osobnych modelach dla zbiorów podzielonych pod kątem płci. \n",
    "\n",
    "Najlepsze z modeli dla danego typu estymatora poddano finalnej walidacji krzyżowaej z wykorzystaniem 5 prób i metryk:\n",
    "- F1\n",
    "- Accuracy\n",
    "- Precision"
   ]
  },
  {
   "cell_type": "markdown",
   "metadata": {},
   "source": [
    "Zbiór zmiennych i zbiór zmiennej objaśnianej"
   ]
  },
  {
   "cell_type": "code",
   "execution_count": 45,
   "metadata": {},
   "outputs": [],
   "source": [
    "X = df.drop([\"Survived\"], axis=1)\n",
    "y = df[\"Survived\"]"
   ]
  },
  {
   "cell_type": "markdown",
   "metadata": {},
   "source": [
    "Zbiór zmiennych i zbiór zmiennych objaśniających z podziałem na płeć"
   ]
  },
  {
   "cell_type": "code",
   "execution_count": 46,
   "metadata": {},
   "outputs": [],
   "source": [
    "X_m = df[df[\"Female\"] == 0].drop(\"Survived\", axis=1)\n",
    "y_m = df.loc[df[\"Female\"] == 0, \"Survived\"]\n",
    "\n",
    "X_f = df[df[\"Female\"] == 1].drop(\"Survived\", axis=1)\n",
    "y_f = df.loc[df[\"Female\"] == 1, \"Survived\"]"
   ]
  },
  {
   "cell_type": "markdown",
   "metadata": {},
   "source": [
    "#### Regresja liniowa z normalizacją"
   ]
  },
  {
   "cell_type": "markdown",
   "metadata": {},
   "source": [
    "W procesie Grid Search poszukiwano optymalnego zestawu parametrów dla:\n",
    "- wartości C - odpowiadajacej regularyzacji (odwrotność parametru lambda) \n",
    "- metodzie regularyzacji (penalty) - według metody l1 (Lasso) i l2 (Ridge)"
   ]
  },
  {
   "cell_type": "code",
   "execution_count": 47,
   "metadata": {},
   "outputs": [
    {
     "data": {
      "text/plain": [
       "GridSearchCV(cv=5, error_score='raise-deprecating',\n",
       "             estimator=Pipeline(memory=None,\n",
       "                                steps=[('normalisation',\n",
       "                                        MinMaxScaler(copy=True,\n",
       "                                                     feature_range=(0, 1))),\n",
       "                                       ('LR',\n",
       "                                        LogisticRegression(C=1.0,\n",
       "                                                           class_weight=None,\n",
       "                                                           dual=False,\n",
       "                                                           fit_intercept=True,\n",
       "                                                           intercept_scaling=1,\n",
       "                                                           l1_ratio=None,\n",
       "                                                           max_iter=100,\n",
       "                                                           multi_class='warn',\n",
       "                                                           n_jobs=None,\n",
       "                                                           penalty='l2',\n",
       "                                                           random_state=None,\n",
       "                                                           solver='liblinear',\n",
       "                                                           tol=0.0001,\n",
       "                                                           verbose=0,\n",
       "                                                           warm_start=False))],\n",
       "                                verbose=False),\n",
       "             iid='warn', n_jobs=-1,\n",
       "             param_grid={'LR__C': [0.01, 0.1, 1, 10, 100],\n",
       "                         'LR__penalty': ['l1', 'l2']},\n",
       "             pre_dispatch='2*n_jobs', refit=True, return_train_score=False,\n",
       "             scoring='roc_auc', verbose=0)"
      ]
     },
     "execution_count": 47,
     "metadata": {},
     "output_type": "execute_result"
    }
   ],
   "source": [
    "# Stworzenie instancji obiektu Logistic Regression\n",
    "lr = LogisticRegression(solver=\"liblinear\")\n",
    "# Zadeklarowanie obiektu typu Pipeline - wykonanie kilku następujących po sobie operacji\n",
    "\n",
    "# Normalizacja -> Regresja logistyczna\n",
    "norm_lr = Pipeline(steps=[(\"normalisation\", minmax), (\"LR\", lr)])\n",
    "\n",
    "# Zadeklarowanie siatki parametrów do kalibracji hiperparametrów\n",
    "params = {\"LR__C\": [0.01, 0.1, 1, 10, 100],\n",
    "         \"LR__penalty\": [\"l1\", \"l2\"]}\n",
    "\n",
    "# Stworzenie instancji obiektu GridSearch ze wskazaniem estymatora, \n",
    "# siatki parametrów, metryki, liczby foldów w CrossValidation, wykorzystania wielowątkowości\n",
    "grid_lr = gridcv(norm_lr, params, scoring=\"roc_auc\", cv=5, n_jobs=-1)\n",
    "\n",
    "grid_lr.fit(X, y)"
   ]
  },
  {
   "cell_type": "code",
   "execution_count": 48,
   "metadata": {},
   "outputs": [
    {
     "name": "stderr",
     "output_type": "stream",
     "text": [
      "C:\\Users\\grzegorz.kuprewicz\\AppData\\Local\\Continuum\\anaconda3\\lib\\site-packages\\sklearn\\model_selection\\_search.py:814: DeprecationWarning: The default of the `iid` parameter will change from True to False in version 0.22 and will be removed in 0.24. This will change numeric results when test-set sizes are unequal.\n",
      "  DeprecationWarning)\n",
      "C:\\Users\\grzegorz.kuprewicz\\AppData\\Local\\Continuum\\anaconda3\\lib\\site-packages\\sklearn\\model_selection\\_search.py:814: DeprecationWarning: The default of the `iid` parameter will change from True to False in version 0.22 and will be removed in 0.24. This will change numeric results when test-set sizes are unequal.\n",
      "  DeprecationWarning)\n"
     ]
    },
    {
     "data": {
      "text/plain": [
       "GridSearchCV(cv=5, error_score='raise-deprecating',\n",
       "             estimator=Pipeline(memory=None,\n",
       "                                steps=[('normalisation',\n",
       "                                        MinMaxScaler(copy=True,\n",
       "                                                     feature_range=(0, 1))),\n",
       "                                       ('LR',\n",
       "                                        LogisticRegression(C=1.0,\n",
       "                                                           class_weight=None,\n",
       "                                                           dual=False,\n",
       "                                                           fit_intercept=True,\n",
       "                                                           intercept_scaling=1,\n",
       "                                                           l1_ratio=None,\n",
       "                                                           max_iter=100,\n",
       "                                                           multi_class='warn',\n",
       "                                                           n_jobs=None,\n",
       "                                                           penalty='l2',\n",
       "                                                           random_state=None,\n",
       "                                                           solver='liblinear',\n",
       "                                                           tol=0.0001,\n",
       "                                                           verbose=0,\n",
       "                                                           warm_start=False))],\n",
       "                                verbose=False),\n",
       "             iid='warn', n_jobs=-1,\n",
       "             param_grid={'LR__C': [0.01, 0.1, 1, 10, 100],\n",
       "                         'LR__penalty': ['l1', 'l2']},\n",
       "             pre_dispatch='2*n_jobs', refit=True, return_train_score=False,\n",
       "             scoring='roc_auc', verbose=0)"
      ]
     },
     "execution_count": 48,
     "metadata": {},
     "output_type": "execute_result"
    }
   ],
   "source": [
    "lr = LogisticRegression(solver=\"liblinear\")\n",
    "norm_lr = Pipeline(steps=[(\"normalisation\", minmax), (\"LR\", lr)])\n",
    "params = {\"LR__C\": [0.01, 0.1, 1, 10, 100],\n",
    "         \"LR__penalty\": [\"l1\", \"l2\"]}\n",
    "\n",
    "grid_lr_m = gridcv(norm_lr, params, scoring=\"roc_auc\", cv=5, n_jobs=-1)\n",
    "grid_lr_m.fit(X_m, y_m)\n",
    "\n",
    "grid_lr_f = gridcv(norm_lr, params, scoring=\"roc_auc\", cv=5, n_jobs=-1)\n",
    "grid_lr_f.fit(X_f, y_f)"
   ]
  },
  {
   "cell_type": "code",
   "execution_count": 49,
   "metadata": {},
   "outputs": [
    {
     "data": {
      "text/html": [
       "<div>\n",
       "<style scoped>\n",
       "    .dataframe tbody tr th:only-of-type {\n",
       "        vertical-align: middle;\n",
       "    }\n",
       "\n",
       "    .dataframe tbody tr th {\n",
       "        vertical-align: top;\n",
       "    }\n",
       "\n",
       "    .dataframe thead th {\n",
       "        text-align: right;\n",
       "    }\n",
       "</style>\n",
       "<table border=\"1\" class=\"dataframe\">\n",
       "  <thead>\n",
       "    <tr style=\"text-align: right;\">\n",
       "      <th></th>\n",
       "      <th>mean_fit_time</th>\n",
       "      <th>params</th>\n",
       "      <th>mean_test_score</th>\n",
       "      <th>rank_test_score</th>\n",
       "    </tr>\n",
       "  </thead>\n",
       "  <tbody>\n",
       "    <tr>\n",
       "      <td>7</td>\n",
       "      <td>0.019679</td>\n",
       "      <td>{'LR__C': 10, 'LR__penalty': 'l2'}</td>\n",
       "      <td>0.865678</td>\n",
       "      <td>1</td>\n",
       "    </tr>\n",
       "    <tr>\n",
       "      <td>5</td>\n",
       "      <td>0.034707</td>\n",
       "      <td>{'LR__C': 1, 'LR__penalty': 'l2'}</td>\n",
       "      <td>0.865336</td>\n",
       "      <td>2</td>\n",
       "    </tr>\n",
       "    <tr>\n",
       "      <td>4</td>\n",
       "      <td>0.020744</td>\n",
       "      <td>{'LR__C': 1, 'LR__penalty': 'l1'}</td>\n",
       "      <td>0.865120</td>\n",
       "      <td>3</td>\n",
       "    </tr>\n",
       "    <tr>\n",
       "      <td>6</td>\n",
       "      <td>0.030858</td>\n",
       "      <td>{'LR__C': 10, 'LR__penalty': 'l1'}</td>\n",
       "      <td>0.863912</td>\n",
       "      <td>4</td>\n",
       "    </tr>\n",
       "    <tr>\n",
       "      <td>9</td>\n",
       "      <td>0.017367</td>\n",
       "      <td>{'LR__C': 100, 'LR__penalty': 'l2'}</td>\n",
       "      <td>0.862170</td>\n",
       "      <td>5</td>\n",
       "    </tr>\n",
       "    <tr>\n",
       "      <td>8</td>\n",
       "      <td>0.076292</td>\n",
       "      <td>{'LR__C': 100, 'LR__penalty': 'l1'}</td>\n",
       "      <td>0.861467</td>\n",
       "      <td>6</td>\n",
       "    </tr>\n",
       "    <tr>\n",
       "      <td>3</td>\n",
       "      <td>0.028489</td>\n",
       "      <td>{'LR__C': 0.1, 'LR__penalty': 'l2'}</td>\n",
       "      <td>0.856498</td>\n",
       "      <td>7</td>\n",
       "    </tr>\n",
       "    <tr>\n",
       "      <td>2</td>\n",
       "      <td>0.026596</td>\n",
       "      <td>{'LR__C': 0.1, 'LR__penalty': 'l1'}</td>\n",
       "      <td>0.847303</td>\n",
       "      <td>8</td>\n",
       "    </tr>\n",
       "    <tr>\n",
       "      <td>1</td>\n",
       "      <td>0.020608</td>\n",
       "      <td>{'LR__C': 0.01, 'LR__penalty': 'l2'}</td>\n",
       "      <td>0.844509</td>\n",
       "      <td>9</td>\n",
       "    </tr>\n",
       "    <tr>\n",
       "      <td>0</td>\n",
       "      <td>0.009896</td>\n",
       "      <td>{'LR__C': 0.01, 'LR__penalty': 'l1'}</td>\n",
       "      <td>0.779756</td>\n",
       "      <td>10</td>\n",
       "    </tr>\n",
       "  </tbody>\n",
       "</table>\n",
       "</div>"
      ],
      "text/plain": [
       "   mean_fit_time                                params  mean_test_score  \\\n",
       "7       0.019679    {'LR__C': 10, 'LR__penalty': 'l2'}         0.865678   \n",
       "5       0.034707     {'LR__C': 1, 'LR__penalty': 'l2'}         0.865336   \n",
       "4       0.020744     {'LR__C': 1, 'LR__penalty': 'l1'}         0.865120   \n",
       "6       0.030858    {'LR__C': 10, 'LR__penalty': 'l1'}         0.863912   \n",
       "9       0.017367   {'LR__C': 100, 'LR__penalty': 'l2'}         0.862170   \n",
       "8       0.076292   {'LR__C': 100, 'LR__penalty': 'l1'}         0.861467   \n",
       "3       0.028489   {'LR__C': 0.1, 'LR__penalty': 'l2'}         0.856498   \n",
       "2       0.026596   {'LR__C': 0.1, 'LR__penalty': 'l1'}         0.847303   \n",
       "1       0.020608  {'LR__C': 0.01, 'LR__penalty': 'l2'}         0.844509   \n",
       "0       0.009896  {'LR__C': 0.01, 'LR__penalty': 'l1'}         0.779756   \n",
       "\n",
       "   rank_test_score  \n",
       "7                1  \n",
       "5                2  \n",
       "4                3  \n",
       "6                4  \n",
       "9                5  \n",
       "8                6  \n",
       "3                7  \n",
       "2                8  \n",
       "1                9  \n",
       "0               10  "
      ]
     },
     "execution_count": 49,
     "metadata": {},
     "output_type": "execute_result"
    }
   ],
   "source": [
    "# Wyświetlenie rezultatów w formie ramki danych\n",
    "pd.DataFrame(grid_lr.cv_results_)[[\"mean_fit_time\", \"params\", \"mean_test_score\", \"rank_test_score\"]].sort_values(\"rank_test_score\")"
   ]
  },
  {
   "cell_type": "code",
   "execution_count": 50,
   "metadata": {},
   "outputs": [
    {
     "data": {
      "text/html": [
       "<div>\n",
       "<style scoped>\n",
       "    .dataframe tbody tr th:only-of-type {\n",
       "        vertical-align: middle;\n",
       "    }\n",
       "\n",
       "    .dataframe tbody tr th {\n",
       "        vertical-align: top;\n",
       "    }\n",
       "\n",
       "    .dataframe thead th {\n",
       "        text-align: right;\n",
       "    }\n",
       "</style>\n",
       "<table border=\"1\" class=\"dataframe\">\n",
       "  <thead>\n",
       "    <tr style=\"text-align: right;\">\n",
       "      <th></th>\n",
       "      <th>mean_fit_time</th>\n",
       "      <th>params</th>\n",
       "      <th>mean_test_score</th>\n",
       "      <th>rank_test_score</th>\n",
       "    </tr>\n",
       "  </thead>\n",
       "  <tbody>\n",
       "    <tr>\n",
       "      <td>5</td>\n",
       "      <td>0.008577</td>\n",
       "      <td>{'LR__C': 1, 'LR__penalty': 'l2'}</td>\n",
       "      <td>0.707332</td>\n",
       "      <td>1</td>\n",
       "    </tr>\n",
       "    <tr>\n",
       "      <td>4</td>\n",
       "      <td>0.008776</td>\n",
       "      <td>{'LR__C': 1, 'LR__penalty': 'l1'}</td>\n",
       "      <td>0.697109</td>\n",
       "      <td>2</td>\n",
       "    </tr>\n",
       "    <tr>\n",
       "      <td>3</td>\n",
       "      <td>0.008776</td>\n",
       "      <td>{'LR__C': 0.1, 'LR__penalty': 'l2'}</td>\n",
       "      <td>0.694658</td>\n",
       "      <td>3</td>\n",
       "    </tr>\n",
       "    <tr>\n",
       "      <td>7</td>\n",
       "      <td>0.009179</td>\n",
       "      <td>{'LR__C': 10, 'LR__penalty': 'l2'}</td>\n",
       "      <td>0.692733</td>\n",
       "      <td>4</td>\n",
       "    </tr>\n",
       "    <tr>\n",
       "      <td>9</td>\n",
       "      <td>0.007380</td>\n",
       "      <td>{'LR__C': 100, 'LR__penalty': 'l2'}</td>\n",
       "      <td>0.682195</td>\n",
       "      <td>5</td>\n",
       "    </tr>\n",
       "    <tr>\n",
       "      <td>6</td>\n",
       "      <td>0.015758</td>\n",
       "      <td>{'LR__C': 10, 'LR__penalty': 'l1'}</td>\n",
       "      <td>0.681369</td>\n",
       "      <td>6</td>\n",
       "    </tr>\n",
       "    <tr>\n",
       "      <td>8</td>\n",
       "      <td>0.016553</td>\n",
       "      <td>{'LR__C': 100, 'LR__penalty': 'l1'}</td>\n",
       "      <td>0.681219</td>\n",
       "      <td>7</td>\n",
       "    </tr>\n",
       "    <tr>\n",
       "      <td>1</td>\n",
       "      <td>0.007826</td>\n",
       "      <td>{'LR__C': 0.01, 'LR__penalty': 'l2'}</td>\n",
       "      <td>0.679679</td>\n",
       "      <td>8</td>\n",
       "    </tr>\n",
       "    <tr>\n",
       "      <td>2</td>\n",
       "      <td>0.010173</td>\n",
       "      <td>{'LR__C': 0.1, 'LR__penalty': 'l1'}</td>\n",
       "      <td>0.678242</td>\n",
       "      <td>9</td>\n",
       "    </tr>\n",
       "    <tr>\n",
       "      <td>0</td>\n",
       "      <td>0.008378</td>\n",
       "      <td>{'LR__C': 0.01, 'LR__penalty': 'l1'}</td>\n",
       "      <td>0.596626</td>\n",
       "      <td>10</td>\n",
       "    </tr>\n",
       "  </tbody>\n",
       "</table>\n",
       "</div>"
      ],
      "text/plain": [
       "   mean_fit_time                                params  mean_test_score  \\\n",
       "5       0.008577     {'LR__C': 1, 'LR__penalty': 'l2'}         0.707332   \n",
       "4       0.008776     {'LR__C': 1, 'LR__penalty': 'l1'}         0.697109   \n",
       "3       0.008776   {'LR__C': 0.1, 'LR__penalty': 'l2'}         0.694658   \n",
       "7       0.009179    {'LR__C': 10, 'LR__penalty': 'l2'}         0.692733   \n",
       "9       0.007380   {'LR__C': 100, 'LR__penalty': 'l2'}         0.682195   \n",
       "6       0.015758    {'LR__C': 10, 'LR__penalty': 'l1'}         0.681369   \n",
       "8       0.016553   {'LR__C': 100, 'LR__penalty': 'l1'}         0.681219   \n",
       "1       0.007826  {'LR__C': 0.01, 'LR__penalty': 'l2'}         0.679679   \n",
       "2       0.010173   {'LR__C': 0.1, 'LR__penalty': 'l1'}         0.678242   \n",
       "0       0.008378  {'LR__C': 0.01, 'LR__penalty': 'l1'}         0.596626   \n",
       "\n",
       "   rank_test_score  \n",
       "5                1  \n",
       "4                2  \n",
       "3                3  \n",
       "7                4  \n",
       "9                5  \n",
       "6                6  \n",
       "8                7  \n",
       "1                8  \n",
       "2                9  \n",
       "0               10  "
      ]
     },
     "execution_count": 50,
     "metadata": {},
     "output_type": "execute_result"
    }
   ],
   "source": [
    "pd.DataFrame(grid_lr_m.cv_results_)[[\"mean_fit_time\", \"params\", \"mean_test_score\", \"rank_test_score\"]].sort_values(\"rank_test_score\")"
   ]
  },
  {
   "cell_type": "code",
   "execution_count": 51,
   "metadata": {},
   "outputs": [
    {
     "data": {
      "text/html": [
       "<div>\n",
       "<style scoped>\n",
       "    .dataframe tbody tr th:only-of-type {\n",
       "        vertical-align: middle;\n",
       "    }\n",
       "\n",
       "    .dataframe tbody tr th {\n",
       "        vertical-align: top;\n",
       "    }\n",
       "\n",
       "    .dataframe thead th {\n",
       "        text-align: right;\n",
       "    }\n",
       "</style>\n",
       "<table border=\"1\" class=\"dataframe\">\n",
       "  <thead>\n",
       "    <tr style=\"text-align: right;\">\n",
       "      <th></th>\n",
       "      <th>mean_fit_time</th>\n",
       "      <th>params</th>\n",
       "      <th>mean_test_score</th>\n",
       "      <th>rank_test_score</th>\n",
       "    </tr>\n",
       "  </thead>\n",
       "  <tbody>\n",
       "    <tr>\n",
       "      <td>8</td>\n",
       "      <td>0.018350</td>\n",
       "      <td>{'LR__C': 100, 'LR__penalty': 'l1'}</td>\n",
       "      <td>0.845379</td>\n",
       "      <td>1</td>\n",
       "    </tr>\n",
       "    <tr>\n",
       "      <td>9</td>\n",
       "      <td>0.005385</td>\n",
       "      <td>{'LR__C': 100, 'LR__penalty': 'l2'}</td>\n",
       "      <td>0.844331</td>\n",
       "      <td>2</td>\n",
       "    </tr>\n",
       "    <tr>\n",
       "      <td>6</td>\n",
       "      <td>0.010571</td>\n",
       "      <td>{'LR__C': 10, 'LR__penalty': 'l1'}</td>\n",
       "      <td>0.841116</td>\n",
       "      <td>3</td>\n",
       "    </tr>\n",
       "    <tr>\n",
       "      <td>7</td>\n",
       "      <td>0.004788</td>\n",
       "      <td>{'LR__C': 10, 'LR__penalty': 'l2'}</td>\n",
       "      <td>0.840633</td>\n",
       "      <td>4</td>\n",
       "    </tr>\n",
       "    <tr>\n",
       "      <td>4</td>\n",
       "      <td>0.004588</td>\n",
       "      <td>{'LR__C': 1, 'LR__penalty': 'l1'}</td>\n",
       "      <td>0.835468</td>\n",
       "      <td>5</td>\n",
       "    </tr>\n",
       "    <tr>\n",
       "      <td>5</td>\n",
       "      <td>0.005785</td>\n",
       "      <td>{'LR__C': 1, 'LR__penalty': 'l2'}</td>\n",
       "      <td>0.834285</td>\n",
       "      <td>6</td>\n",
       "    </tr>\n",
       "    <tr>\n",
       "      <td>2</td>\n",
       "      <td>0.006184</td>\n",
       "      <td>{'LR__C': 0.1, 'LR__penalty': 'l1'}</td>\n",
       "      <td>0.792574</td>\n",
       "      <td>7</td>\n",
       "    </tr>\n",
       "    <tr>\n",
       "      <td>3</td>\n",
       "      <td>0.004987</td>\n",
       "      <td>{'LR__C': 0.1, 'LR__penalty': 'l2'}</td>\n",
       "      <td>0.784140</td>\n",
       "      <td>8</td>\n",
       "    </tr>\n",
       "    <tr>\n",
       "      <td>1</td>\n",
       "      <td>0.005389</td>\n",
       "      <td>{'LR__C': 0.01, 'LR__penalty': 'l2'}</td>\n",
       "      <td>0.647955</td>\n",
       "      <td>9</td>\n",
       "    </tr>\n",
       "    <tr>\n",
       "      <td>0</td>\n",
       "      <td>0.006379</td>\n",
       "      <td>{'LR__C': 0.01, 'LR__penalty': 'l1'}</td>\n",
       "      <td>0.500000</td>\n",
       "      <td>10</td>\n",
       "    </tr>\n",
       "  </tbody>\n",
       "</table>\n",
       "</div>"
      ],
      "text/plain": [
       "   mean_fit_time                                params  mean_test_score  \\\n",
       "8       0.018350   {'LR__C': 100, 'LR__penalty': 'l1'}         0.845379   \n",
       "9       0.005385   {'LR__C': 100, 'LR__penalty': 'l2'}         0.844331   \n",
       "6       0.010571    {'LR__C': 10, 'LR__penalty': 'l1'}         0.841116   \n",
       "7       0.004788    {'LR__C': 10, 'LR__penalty': 'l2'}         0.840633   \n",
       "4       0.004588     {'LR__C': 1, 'LR__penalty': 'l1'}         0.835468   \n",
       "5       0.005785     {'LR__C': 1, 'LR__penalty': 'l2'}         0.834285   \n",
       "2       0.006184   {'LR__C': 0.1, 'LR__penalty': 'l1'}         0.792574   \n",
       "3       0.004987   {'LR__C': 0.1, 'LR__penalty': 'l2'}         0.784140   \n",
       "1       0.005389  {'LR__C': 0.01, 'LR__penalty': 'l2'}         0.647955   \n",
       "0       0.006379  {'LR__C': 0.01, 'LR__penalty': 'l1'}         0.500000   \n",
       "\n",
       "   rank_test_score  \n",
       "8                1  \n",
       "9                2  \n",
       "6                3  \n",
       "7                4  \n",
       "4                5  \n",
       "5                6  \n",
       "2                7  \n",
       "3                8  \n",
       "1                9  \n",
       "0               10  "
      ]
     },
     "execution_count": 51,
     "metadata": {},
     "output_type": "execute_result"
    }
   ],
   "source": [
    "pd.DataFrame(grid_lr_f.cv_results_)[[\"mean_fit_time\", \"params\", \"mean_test_score\", \"rank_test_score\"]].sort_values(\"rank_test_score\")"
   ]
  },
  {
   "cell_type": "markdown",
   "metadata": {},
   "source": [
    "Można zauważyć, że rozbicie na dwa osobne modele dla każdej z płci wydaje się nie przynosić poprawy rezultatów. \n",
    "Bazując na metryce AUC najlepszym wydaje się wykorzystanie regularyzacji metodą Ridge oraz z parametrem C = 10. <br> Zestaw parametrów, dla których uzyskano najlepsze rezultaty zostanie użyty podczas dalszej procedury wyboru finalnego modelu."
   ]
  },
  {
   "cell_type": "markdown",
   "metadata": {},
   "source": [
    "#### Random Forest"
   ]
  },
  {
   "cell_type": "markdown",
   "metadata": {},
   "source": [
    "W przypadku metody Random Forest założono wykorzystanie 400 drzew decyzyjnych. Jako hiperparametry sprawdzono:\n",
    "- maksymalną liczbę zmiennych (max features) - wybrano brak ograniczenia, oraz pierwiastek z liczby zmiennych\n",
    "- kryterium oceny podziału na gałęzie - Gini oraz entropia"
   ]
  },
  {
   "cell_type": "code",
   "execution_count": 52,
   "metadata": {},
   "outputs": [
    {
     "data": {
      "text/plain": [
       "GridSearchCV(cv=5, error_score='raise-deprecating',\n",
       "             estimator=RandomForestClassifier(bootstrap=True, class_weight=None,\n",
       "                                              criterion='gini', max_depth=None,\n",
       "                                              max_features='auto',\n",
       "                                              max_leaf_nodes=None,\n",
       "                                              min_impurity_decrease=0.0,\n",
       "                                              min_impurity_split=None,\n",
       "                                              min_samples_leaf=1,\n",
       "                                              min_samples_split=2,\n",
       "                                              min_weight_fraction_leaf=0.0,\n",
       "                                              n_estimators=400, n_jobs=None,\n",
       "                                              oob_score=False,\n",
       "                                              random_state=None, verbose=0,\n",
       "                                              warm_start=False),\n",
       "             iid='warn', n_jobs=-1,\n",
       "             param_grid={'criterion': ['gini', 'entropy'],\n",
       "                         'max_features': [None, 'sqrt']},\n",
       "             pre_dispatch='2*n_jobs', refit=True, return_train_score=False,\n",
       "             scoring='roc_auc', verbose=0)"
      ]
     },
     "execution_count": 52,
     "metadata": {},
     "output_type": "execute_result"
    }
   ],
   "source": [
    "# Stworzenie instancji obiektu RandomForestClassifier o 400 drzewach\n",
    "rf = RandomForestClassifier(n_estimators=400)\n",
    "\n",
    "# Sieć hiperparametrów\n",
    "params = {\"max_features\": [None, \"sqrt\"],\n",
    "         \"criterion\": [\"gini\", \"entropy\"]}\n",
    "\n",
    "grid_rf = gridcv(rf, params, scoring=\"roc_auc\", cv=5, n_jobs=-1)\n",
    "grid_rf.fit(X, y)"
   ]
  },
  {
   "cell_type": "code",
   "execution_count": 53,
   "metadata": {},
   "outputs": [
    {
     "name": "stderr",
     "output_type": "stream",
     "text": [
      "C:\\Users\\grzegorz.kuprewicz\\AppData\\Local\\Continuum\\anaconda3\\lib\\site-packages\\sklearn\\model_selection\\_search.py:814: DeprecationWarning: The default of the `iid` parameter will change from True to False in version 0.22 and will be removed in 0.24. This will change numeric results when test-set sizes are unequal.\n",
      "  DeprecationWarning)\n"
     ]
    },
    {
     "data": {
      "text/plain": [
       "GridSearchCV(cv=5, error_score='raise-deprecating',\n",
       "             estimator=RandomForestClassifier(bootstrap=True, class_weight=None,\n",
       "                                              criterion='gini', max_depth=None,\n",
       "                                              max_features='auto',\n",
       "                                              max_leaf_nodes=None,\n",
       "                                              min_impurity_decrease=0.0,\n",
       "                                              min_impurity_split=None,\n",
       "                                              min_samples_leaf=1,\n",
       "                                              min_samples_split=2,\n",
       "                                              min_weight_fraction_leaf=0.0,\n",
       "                                              n_estimators=400, n_jobs=None,\n",
       "                                              oob_score=False,\n",
       "                                              random_state=None, verbose=0,\n",
       "                                              warm_start=False),\n",
       "             iid='warn', n_jobs=-1,\n",
       "             param_grid={'criterion': ['gini', 'entropy'],\n",
       "                         'max_features': [None, 'sqrt']},\n",
       "             pre_dispatch='2*n_jobs', refit=True, return_train_score=False,\n",
       "             scoring='roc_auc', verbose=0)"
      ]
     },
     "execution_count": 53,
     "metadata": {},
     "output_type": "execute_result"
    }
   ],
   "source": [
    "rf = RandomForestClassifier(n_estimators=400)\n",
    "\n",
    "params = {\"max_features\": [None, \"sqrt\"],\n",
    "         \"criterion\": [\"gini\", \"entropy\"]}\n",
    "\n",
    "grid_rf_m = gridcv(rf, params, scoring=\"roc_auc\", cv=5, n_jobs=-1)\n",
    "grid_rf_m.fit(X_m, y_m)\n",
    "\n",
    "grid_rf_f = gridcv(rf, params, scoring=\"roc_auc\", cv=5, n_jobs=-1)\n",
    "grid_rf_f.fit(X_f, y_f)"
   ]
  },
  {
   "cell_type": "code",
   "execution_count": 54,
   "metadata": {},
   "outputs": [
    {
     "data": {
      "text/html": [
       "<div>\n",
       "<style scoped>\n",
       "    .dataframe tbody tr th:only-of-type {\n",
       "        vertical-align: middle;\n",
       "    }\n",
       "\n",
       "    .dataframe tbody tr th {\n",
       "        vertical-align: top;\n",
       "    }\n",
       "\n",
       "    .dataframe thead th {\n",
       "        text-align: right;\n",
       "    }\n",
       "</style>\n",
       "<table border=\"1\" class=\"dataframe\">\n",
       "  <thead>\n",
       "    <tr style=\"text-align: right;\">\n",
       "      <th></th>\n",
       "      <th>mean_fit_time</th>\n",
       "      <th>params</th>\n",
       "      <th>mean_test_score</th>\n",
       "      <th>rank_test_score</th>\n",
       "    </tr>\n",
       "  </thead>\n",
       "  <tbody>\n",
       "    <tr>\n",
       "      <td>3</td>\n",
       "      <td>0.664415</td>\n",
       "      <td>{'criterion': 'entropy', 'max_features': 'sqrt'}</td>\n",
       "      <td>0.872846</td>\n",
       "      <td>1</td>\n",
       "    </tr>\n",
       "    <tr>\n",
       "      <td>1</td>\n",
       "      <td>0.621785</td>\n",
       "      <td>{'criterion': 'gini', 'max_features': 'sqrt'}</td>\n",
       "      <td>0.870155</td>\n",
       "      <td>2</td>\n",
       "    </tr>\n",
       "    <tr>\n",
       "      <td>2</td>\n",
       "      <td>1.248543</td>\n",
       "      <td>{'criterion': 'entropy', 'max_features': None}</td>\n",
       "      <td>0.867155</td>\n",
       "      <td>3</td>\n",
       "    </tr>\n",
       "    <tr>\n",
       "      <td>0</td>\n",
       "      <td>0.999324</td>\n",
       "      <td>{'criterion': 'gini', 'max_features': None}</td>\n",
       "      <td>0.864702</td>\n",
       "      <td>4</td>\n",
       "    </tr>\n",
       "  </tbody>\n",
       "</table>\n",
       "</div>"
      ],
      "text/plain": [
       "   mean_fit_time                                            params  \\\n",
       "3       0.664415  {'criterion': 'entropy', 'max_features': 'sqrt'}   \n",
       "1       0.621785     {'criterion': 'gini', 'max_features': 'sqrt'}   \n",
       "2       1.248543    {'criterion': 'entropy', 'max_features': None}   \n",
       "0       0.999324       {'criterion': 'gini', 'max_features': None}   \n",
       "\n",
       "   mean_test_score  rank_test_score  \n",
       "3         0.872846                1  \n",
       "1         0.870155                2  \n",
       "2         0.867155                3  \n",
       "0         0.864702                4  "
      ]
     },
     "execution_count": 54,
     "metadata": {},
     "output_type": "execute_result"
    }
   ],
   "source": [
    "# Wyświetlenie rezultatów w formie ramki danych\n",
    "pd.DataFrame(grid_rf.cv_results_)[[\"mean_fit_time\", \"params\", \"mean_test_score\", \"rank_test_score\"]].sort_values(\"rank_test_score\")"
   ]
  },
  {
   "cell_type": "code",
   "execution_count": 55,
   "metadata": {},
   "outputs": [
    {
     "data": {
      "text/html": [
       "<div>\n",
       "<style scoped>\n",
       "    .dataframe tbody tr th:only-of-type {\n",
       "        vertical-align: middle;\n",
       "    }\n",
       "\n",
       "    .dataframe tbody tr th {\n",
       "        vertical-align: top;\n",
       "    }\n",
       "\n",
       "    .dataframe thead th {\n",
       "        text-align: right;\n",
       "    }\n",
       "</style>\n",
       "<table border=\"1\" class=\"dataframe\">\n",
       "  <thead>\n",
       "    <tr style=\"text-align: right;\">\n",
       "      <th></th>\n",
       "      <th>mean_fit_time</th>\n",
       "      <th>params</th>\n",
       "      <th>mean_test_score</th>\n",
       "      <th>rank_test_score</th>\n",
       "    </tr>\n",
       "  </thead>\n",
       "  <tbody>\n",
       "    <tr>\n",
       "      <td>1</td>\n",
       "      <td>0.544610</td>\n",
       "      <td>{'criterion': 'gini', 'max_features': 'sqrt'}</td>\n",
       "      <td>0.733604</td>\n",
       "      <td>1</td>\n",
       "    </tr>\n",
       "    <tr>\n",
       "      <td>3</td>\n",
       "      <td>1.334588</td>\n",
       "      <td>{'criterion': 'entropy', 'max_features': 'sqrt'}</td>\n",
       "      <td>0.727861</td>\n",
       "      <td>2</td>\n",
       "    </tr>\n",
       "    <tr>\n",
       "      <td>0</td>\n",
       "      <td>0.718002</td>\n",
       "      <td>{'criterion': 'gini', 'max_features': None}</td>\n",
       "      <td>0.726601</td>\n",
       "      <td>3</td>\n",
       "    </tr>\n",
       "    <tr>\n",
       "      <td>2</td>\n",
       "      <td>1.143693</td>\n",
       "      <td>{'criterion': 'entropy', 'max_features': None}</td>\n",
       "      <td>0.718697</td>\n",
       "      <td>4</td>\n",
       "    </tr>\n",
       "  </tbody>\n",
       "</table>\n",
       "</div>"
      ],
      "text/plain": [
       "   mean_fit_time                                            params  \\\n",
       "1       0.544610     {'criterion': 'gini', 'max_features': 'sqrt'}   \n",
       "3       1.334588  {'criterion': 'entropy', 'max_features': 'sqrt'}   \n",
       "0       0.718002       {'criterion': 'gini', 'max_features': None}   \n",
       "2       1.143693    {'criterion': 'entropy', 'max_features': None}   \n",
       "\n",
       "   mean_test_score  rank_test_score  \n",
       "1         0.733604                1  \n",
       "3         0.727861                2  \n",
       "0         0.726601                3  \n",
       "2         0.718697                4  "
      ]
     },
     "execution_count": 55,
     "metadata": {},
     "output_type": "execute_result"
    }
   ],
   "source": [
    "pd.DataFrame(grid_rf_m.cv_results_)[[\"mean_fit_time\", \"params\", \"mean_test_score\", \"rank_test_score\"]].sort_values(\"rank_test_score\")"
   ]
  },
  {
   "cell_type": "code",
   "execution_count": 56,
   "metadata": {},
   "outputs": [
    {
     "data": {
      "text/html": [
       "<div>\n",
       "<style scoped>\n",
       "    .dataframe tbody tr th:only-of-type {\n",
       "        vertical-align: middle;\n",
       "    }\n",
       "\n",
       "    .dataframe tbody tr th {\n",
       "        vertical-align: top;\n",
       "    }\n",
       "\n",
       "    .dataframe thead th {\n",
       "        text-align: right;\n",
       "    }\n",
       "</style>\n",
       "<table border=\"1\" class=\"dataframe\">\n",
       "  <thead>\n",
       "    <tr style=\"text-align: right;\">\n",
       "      <th></th>\n",
       "      <th>mean_fit_time</th>\n",
       "      <th>params</th>\n",
       "      <th>mean_test_score</th>\n",
       "      <th>rank_test_score</th>\n",
       "    </tr>\n",
       "  </thead>\n",
       "  <tbody>\n",
       "    <tr>\n",
       "      <td>3</td>\n",
       "      <td>0.689693</td>\n",
       "      <td>{'criterion': 'entropy', 'max_features': 'sqrt'}</td>\n",
       "      <td>0.821478</td>\n",
       "      <td>1</td>\n",
       "    </tr>\n",
       "    <tr>\n",
       "      <td>1</td>\n",
       "      <td>0.967746</td>\n",
       "      <td>{'criterion': 'gini', 'max_features': 'sqrt'}</td>\n",
       "      <td>0.813553</td>\n",
       "      <td>2</td>\n",
       "    </tr>\n",
       "    <tr>\n",
       "      <td>2</td>\n",
       "      <td>0.989829</td>\n",
       "      <td>{'criterion': 'entropy', 'max_features': None}</td>\n",
       "      <td>0.805875</td>\n",
       "      <td>3</td>\n",
       "    </tr>\n",
       "    <tr>\n",
       "      <td>0</td>\n",
       "      <td>1.695311</td>\n",
       "      <td>{'criterion': 'gini', 'max_features': None}</td>\n",
       "      <td>0.792926</td>\n",
       "      <td>4</td>\n",
       "    </tr>\n",
       "  </tbody>\n",
       "</table>\n",
       "</div>"
      ],
      "text/plain": [
       "   mean_fit_time                                            params  \\\n",
       "3       0.689693  {'criterion': 'entropy', 'max_features': 'sqrt'}   \n",
       "1       0.967746     {'criterion': 'gini', 'max_features': 'sqrt'}   \n",
       "2       0.989829    {'criterion': 'entropy', 'max_features': None}   \n",
       "0       1.695311       {'criterion': 'gini', 'max_features': None}   \n",
       "\n",
       "   mean_test_score  rank_test_score  \n",
       "3         0.821478                1  \n",
       "1         0.813553                2  \n",
       "2         0.805875                3  \n",
       "0         0.792926                4  "
      ]
     },
     "execution_count": 56,
     "metadata": {},
     "output_type": "execute_result"
    }
   ],
   "source": [
    "pd.DataFrame(grid_rf_f.cv_results_)[[\"mean_fit_time\", \"params\", \"mean_test_score\", \"rank_test_score\"]].sort_values(\"rank_test_score\")"
   ]
  },
  {
   "cell_type": "markdown",
   "metadata": {},
   "source": [
    "Ponownie, jak w przypadku regresji logistycznej, rozbicie na dwa osobne modele nie przyniosło poprawy rezultatu dla metryki AUC. <br> Do dalszej procedury wyboru finalnego modelu wybrano model wykorzystujący kryterium \"gini\" oraz uwzględniający maksymalną liczbę zmiennych jako pierwiastek z liczby zmiennych."
   ]
  },
  {
   "cell_type": "markdown",
   "metadata": {},
   "source": [
    "#### XGboost"
   ]
  },
  {
   "cell_type": "markdown",
   "metadata": {},
   "source": [
    "W przypadku metody wykorzystującej pakiet XGboost dla klasyfikacji zdecyodwano się na sprawdzenie hiperparametru:\n",
    "- booster - wykorzystanie liniowego oraz opartego na drzewach decyzyjnych"
   ]
  },
  {
   "cell_type": "code",
   "execution_count": 57,
   "metadata": {},
   "outputs": [
    {
     "data": {
      "text/plain": [
       "[3, 1, 2]\n",
       "Categories (3, int64): [3, 1, 2]"
      ]
     },
     "execution_count": 57,
     "metadata": {},
     "output_type": "execute_result"
    }
   ],
   "source": [
    "X_m[\"Pclass\"].unique()"
   ]
  },
  {
   "cell_type": "code",
   "execution_count": 58,
   "metadata": {},
   "outputs": [
    {
     "data": {
      "text/plain": [
       "GridSearchCV(cv=5, error_score='raise-deprecating',\n",
       "             estimator=XGBClassifier(base_score=0.5, booster='gbtree',\n",
       "                                     colsample_bylevel=1, colsample_bynode=1,\n",
       "                                     colsample_bytree=1, gamma=0,\n",
       "                                     learning_rate=0.1, max_delta_step=0,\n",
       "                                     max_depth=3, min_child_weight=1,\n",
       "                                     missing=None, n_estimators=100, n_jobs=1,\n",
       "                                     nthread=None, objective='binary:logistic',\n",
       "                                     random_state=0, reg_alpha=0, reg_lambda=1,\n",
       "                                     scale_pos_weight=1, seed=None, silent=None,\n",
       "                                     subsample=1, verbosity=1),\n",
       "             iid='warn', n_jobs=-1,\n",
       "             param_grid={'booster': ['gblinear', 'gbtree']},\n",
       "             pre_dispatch='2*n_jobs', refit=True, return_train_score=False,\n",
       "             scoring='roc_auc', verbose=0)"
      ]
     },
     "execution_count": 58,
     "metadata": {},
     "output_type": "execute_result"
    }
   ],
   "source": [
    "# Stworzenie instancji obiektu \n",
    "xgb_est = xgb.XGBClassifier()\n",
    "\n",
    "# Sieć parametrów do przeprowadzenia GridSearch\n",
    "params = {\"booster\": [\"gblinear\", \"gbtree\"]}\n",
    "\n",
    "grid_xgb = gridcv(xgb_est, params, scoring=\"roc_auc\", cv=5, n_jobs=-1)\n",
    "\n",
    "# Z uwagi na występujący wyjątek zmieniono typ zmiennej \"Pclass\" na liczbę całkowitą.\n",
    "X[\"Pclass\"] = X[\"Pclass\"].astype(int)\n",
    "\n",
    "\n",
    "grid_xgb.fit(X, y)"
   ]
  },
  {
   "cell_type": "code",
   "execution_count": 59,
   "metadata": {},
   "outputs": [
    {
     "name": "stderr",
     "output_type": "stream",
     "text": [
      "C:\\Users\\grzegorz.kuprewicz\\AppData\\Local\\Continuum\\anaconda3\\lib\\site-packages\\sklearn\\model_selection\\_search.py:814: DeprecationWarning: The default of the `iid` parameter will change from True to False in version 0.22 and will be removed in 0.24. This will change numeric results when test-set sizes are unequal.\n",
      "  DeprecationWarning)\n",
      "C:\\Users\\grzegorz.kuprewicz\\AppData\\Local\\Continuum\\anaconda3\\lib\\site-packages\\sklearn\\model_selection\\_search.py:814: DeprecationWarning: The default of the `iid` parameter will change from True to False in version 0.22 and will be removed in 0.24. This will change numeric results when test-set sizes are unequal.\n",
      "  DeprecationWarning)\n"
     ]
    },
    {
     "data": {
      "text/plain": [
       "GridSearchCV(cv=5, error_score='raise-deprecating',\n",
       "             estimator=XGBClassifier(base_score=0.5, booster='gbtree',\n",
       "                                     colsample_bylevel=1, colsample_bynode=1,\n",
       "                                     colsample_bytree=1, gamma=0,\n",
       "                                     learning_rate=0.1, max_delta_step=0,\n",
       "                                     max_depth=3, min_child_weight=1,\n",
       "                                     missing=None, n_estimators=100, n_jobs=1,\n",
       "                                     nthread=None, objective='binary:logistic',\n",
       "                                     random_state=0, reg_alpha=0, reg_lambda=1,\n",
       "                                     scale_pos_weight=1, seed=None, silent=None,\n",
       "                                     subsample=1, verbosity=1),\n",
       "             iid='warn', n_jobs=-1,\n",
       "             param_grid={'booster': ['gblinear', 'gbtree']},\n",
       "             pre_dispatch='2*n_jobs', refit=True, return_train_score=False,\n",
       "             scoring='roc_auc', verbose=0)"
      ]
     },
     "execution_count": 59,
     "metadata": {},
     "output_type": "execute_result"
    }
   ],
   "source": [
    "X_m[\"Pclass\"] = X_m[\"Pclass\"].astype(int)\n",
    "X_f[\"Pclass\"] = X_f[\"Pclass\"].astype(int)\n",
    "\n",
    "grid_xgb_f = gridcv(xgb_est, params, scoring=\"roc_auc\", cv=5, n_jobs=-1)\n",
    "grid_xgb_m = gridcv(xgb_est, params, scoring=\"roc_auc\", cv=5, n_jobs=-1)\n",
    "\n",
    "grid_xgb_f.fit(X_f, y_f)\n",
    "grid_xgb_m.fit(X_m, y_m)"
   ]
  },
  {
   "cell_type": "code",
   "execution_count": 60,
   "metadata": {},
   "outputs": [
    {
     "data": {
      "text/html": [
       "<div>\n",
       "<style scoped>\n",
       "    .dataframe tbody tr th:only-of-type {\n",
       "        vertical-align: middle;\n",
       "    }\n",
       "\n",
       "    .dataframe tbody tr th {\n",
       "        vertical-align: top;\n",
       "    }\n",
       "\n",
       "    .dataframe thead th {\n",
       "        text-align: right;\n",
       "    }\n",
       "</style>\n",
       "<table border=\"1\" class=\"dataframe\">\n",
       "  <thead>\n",
       "    <tr style=\"text-align: right;\">\n",
       "      <th></th>\n",
       "      <th>mean_fit_time</th>\n",
       "      <th>params</th>\n",
       "      <th>mean_test_score</th>\n",
       "      <th>rank_test_score</th>\n",
       "    </tr>\n",
       "  </thead>\n",
       "  <tbody>\n",
       "    <tr>\n",
       "      <td>1</td>\n",
       "      <td>0.171481</td>\n",
       "      <td>{'booster': 'gbtree'}</td>\n",
       "      <td>0.868983</td>\n",
       "      <td>1</td>\n",
       "    </tr>\n",
       "    <tr>\n",
       "      <td>0</td>\n",
       "      <td>0.619143</td>\n",
       "      <td>{'booster': 'gblinear'}</td>\n",
       "      <td>0.769178</td>\n",
       "      <td>2</td>\n",
       "    </tr>\n",
       "  </tbody>\n",
       "</table>\n",
       "</div>"
      ],
      "text/plain": [
       "   mean_fit_time                   params  mean_test_score  rank_test_score\n",
       "1       0.171481    {'booster': 'gbtree'}         0.868983                1\n",
       "0       0.619143  {'booster': 'gblinear'}         0.769178                2"
      ]
     },
     "execution_count": 60,
     "metadata": {},
     "output_type": "execute_result"
    }
   ],
   "source": [
    "# Rezultaty przedstwione w formie ramki danych \n",
    "pd.DataFrame(grid_xgb.cv_results_)[[\"mean_fit_time\", \"params\", \"mean_test_score\", \"rank_test_score\"]].sort_values(\"rank_test_score\")"
   ]
  },
  {
   "cell_type": "code",
   "execution_count": 61,
   "metadata": {},
   "outputs": [
    {
     "data": {
      "text/html": [
       "<div>\n",
       "<style scoped>\n",
       "    .dataframe tbody tr th:only-of-type {\n",
       "        vertical-align: middle;\n",
       "    }\n",
       "\n",
       "    .dataframe tbody tr th {\n",
       "        vertical-align: top;\n",
       "    }\n",
       "\n",
       "    .dataframe thead th {\n",
       "        text-align: right;\n",
       "    }\n",
       "</style>\n",
       "<table border=\"1\" class=\"dataframe\">\n",
       "  <thead>\n",
       "    <tr style=\"text-align: right;\">\n",
       "      <th></th>\n",
       "      <th>mean_fit_time</th>\n",
       "      <th>params</th>\n",
       "      <th>mean_test_score</th>\n",
       "      <th>rank_test_score</th>\n",
       "    </tr>\n",
       "  </thead>\n",
       "  <tbody>\n",
       "    <tr>\n",
       "      <td>1</td>\n",
       "      <td>0.099936</td>\n",
       "      <td>{'booster': 'gbtree'}</td>\n",
       "      <td>0.808714</td>\n",
       "      <td>1</td>\n",
       "    </tr>\n",
       "    <tr>\n",
       "      <td>0</td>\n",
       "      <td>0.128256</td>\n",
       "      <td>{'booster': 'gblinear'}</td>\n",
       "      <td>0.749437</td>\n",
       "      <td>2</td>\n",
       "    </tr>\n",
       "  </tbody>\n",
       "</table>\n",
       "</div>"
      ],
      "text/plain": [
       "   mean_fit_time                   params  mean_test_score  rank_test_score\n",
       "1       0.099936    {'booster': 'gbtree'}         0.808714                1\n",
       "0       0.128256  {'booster': 'gblinear'}         0.749437                2"
      ]
     },
     "execution_count": 61,
     "metadata": {},
     "output_type": "execute_result"
    }
   ],
   "source": [
    "# Rezultaty przedstwione w formie ramki danych \n",
    "pd.DataFrame(grid_xgb_f.cv_results_)[[\"mean_fit_time\", \"params\", \"mean_test_score\", \"rank_test_score\"]].sort_values(\"rank_test_score\")"
   ]
  },
  {
   "cell_type": "code",
   "execution_count": 62,
   "metadata": {},
   "outputs": [
    {
     "data": {
      "text/html": [
       "<div>\n",
       "<style scoped>\n",
       "    .dataframe tbody tr th:only-of-type {\n",
       "        vertical-align: middle;\n",
       "    }\n",
       "\n",
       "    .dataframe tbody tr th {\n",
       "        vertical-align: top;\n",
       "    }\n",
       "\n",
       "    .dataframe thead th {\n",
       "        text-align: right;\n",
       "    }\n",
       "</style>\n",
       "<table border=\"1\" class=\"dataframe\">\n",
       "  <thead>\n",
       "    <tr style=\"text-align: right;\">\n",
       "      <th></th>\n",
       "      <th>mean_fit_time</th>\n",
       "      <th>params</th>\n",
       "      <th>mean_test_score</th>\n",
       "      <th>rank_test_score</th>\n",
       "    </tr>\n",
       "  </thead>\n",
       "  <tbody>\n",
       "    <tr>\n",
       "      <td>1</td>\n",
       "      <td>0.120939</td>\n",
       "      <td>{'booster': 'gbtree'}</td>\n",
       "      <td>0.707446</td>\n",
       "      <td>1</td>\n",
       "    </tr>\n",
       "    <tr>\n",
       "      <td>0</td>\n",
       "      <td>0.138041</td>\n",
       "      <td>{'booster': 'gblinear'}</td>\n",
       "      <td>0.617778</td>\n",
       "      <td>2</td>\n",
       "    </tr>\n",
       "  </tbody>\n",
       "</table>\n",
       "</div>"
      ],
      "text/plain": [
       "   mean_fit_time                   params  mean_test_score  rank_test_score\n",
       "1       0.120939    {'booster': 'gbtree'}         0.707446                1\n",
       "0       0.138041  {'booster': 'gblinear'}         0.617778                2"
      ]
     },
     "execution_count": 62,
     "metadata": {},
     "output_type": "execute_result"
    }
   ],
   "source": [
    "# Rezultaty przedstwione w formie ramki danych \n",
    "pd.DataFrame(grid_xgb_m.cv_results_)[[\"mean_fit_time\", \"params\", \"mean_test_score\", \"rank_test_score\"]].sort_values(\"rank_test_score\")"
   ]
  },
  {
   "cell_type": "markdown",
   "metadata": {},
   "source": [
    "Ponownie podział na osobne modele dla poszczególnych płci nie przyniósł lepszego rezulatu niż zastosowanie jednego modelu.<br> Warto zwrócić uwagę, że lepszy okazał się model wykorzystujący booster oparty na drzewach decyzyjnych osiągając nieznacznie lepszy wynik niż RandomForest - przy czym czas nauki był znacząco niższy niż w przypadku Random Forest. "
   ]
  },
  {
   "cell_type": "markdown",
   "metadata": {},
   "source": [
    "### Wybór finalnego modelu"
   ]
  },
  {
   "cell_type": "markdown",
   "metadata": {},
   "source": [
    "Do wyboru finalnego modelu posłużą najlepsze z modeli dla każdej z metod. Ich rezultaty zostaną zestawione dla następujących metryk:\n",
    "- F1\n",
    "- Accuracy\n",
    "- Precision\n",
    "\n",
    "<br>Na bazie analizy rezultatów wybrany zostanie finalny estymator służący do predykcji na zbiorze testowym. "
   ]
  },
  {
   "cell_type": "code",
   "execution_count": 63,
   "metadata": {},
   "outputs": [
    {
     "data": {
      "text/html": [
       "<div>\n",
       "<style scoped>\n",
       "    .dataframe tbody tr th:only-of-type {\n",
       "        vertical-align: middle;\n",
       "    }\n",
       "\n",
       "    .dataframe tbody tr th {\n",
       "        vertical-align: top;\n",
       "    }\n",
       "\n",
       "    .dataframe thead th {\n",
       "        text-align: right;\n",
       "    }\n",
       "</style>\n",
       "<table border=\"1\" class=\"dataframe\">\n",
       "  <thead>\n",
       "    <tr style=\"text-align: right;\">\n",
       "      <th></th>\n",
       "      <th>fit_time</th>\n",
       "      <th>score_time</th>\n",
       "      <th>test_accuracy</th>\n",
       "      <th>test_f1</th>\n",
       "      <th>test_precision</th>\n",
       "    </tr>\n",
       "  </thead>\n",
       "  <tbody>\n",
       "    <tr>\n",
       "      <td>Pipeline</td>\n",
       "      <td>0.006582</td>\n",
       "      <td>0.010771</td>\n",
       "      <td>0.818344</td>\n",
       "      <td>0.750532</td>\n",
       "      <td>0.781658</td>\n",
       "    </tr>\n",
       "    <tr>\n",
       "      <td>RandomForestClassifier</td>\n",
       "      <td>0.446576</td>\n",
       "      <td>0.091446</td>\n",
       "      <td>0.822876</td>\n",
       "      <td>0.763870</td>\n",
       "      <td>0.772314</td>\n",
       "    </tr>\n",
       "    <tr>\n",
       "      <td>XGBClassifier</td>\n",
       "      <td>0.087212</td>\n",
       "      <td>0.007792</td>\n",
       "      <td>0.829599</td>\n",
       "      <td>0.756555</td>\n",
       "      <td>0.822708</td>\n",
       "    </tr>\n",
       "  </tbody>\n",
       "</table>\n",
       "</div>"
      ],
      "text/plain": [
       "                        fit_time  score_time  test_accuracy   test_f1  \\\n",
       "Pipeline                0.006582    0.010771       0.818344  0.750532   \n",
       "RandomForestClassifier  0.446576    0.091446       0.822876  0.763870   \n",
       "XGBClassifier           0.087212    0.007792       0.829599  0.756555   \n",
       "\n",
       "                        test_precision  \n",
       "Pipeline                      0.781658  \n",
       "RandomForestClassifier        0.772314  \n",
       "XGBClassifier                 0.822708  "
      ]
     },
     "execution_count": 63,
     "metadata": {},
     "output_type": "execute_result"
    }
   ],
   "source": [
    "# Stworzenie listy modelu do testu poprzez pobranie najlpeszego estymatora dla odpowiednich Grid Search\n",
    "model_to_test = [grid_lr.best_estimator_, grid_rf.best_estimator_, grid_xgb.best_estimator_]\n",
    "\n",
    "# Stworzenie pustej ramki danych do gromadzenia wyników\n",
    "df_scores = pd.DataFrame()\n",
    "\n",
    "# Iteracja po każdym z estymatorów w celu scoringu\n",
    "for model in model_to_test:\n",
    "    # Pobranie nazwy estymatora \n",
    "    name = model.__class__.__name__\n",
    "    # Dokonanie scoringu\n",
    "    score = cross_validate(model, X, y, cv=5, scoring=[\"f1\", \"accuracy\", \"precision\"])\n",
    "    \n",
    "    # Uśrednienie wyników \n",
    "    for key, value in score.items():\n",
    "        score[key] = np.mean(value)\n",
    "    \n",
    "    # Stworzenie obiektu Series i nadanie nazwy danego estymatora\n",
    "    score_as_series = pd.Series(score).rename(name)\n",
    "    \n",
    "    # Dodanie serii do ramki danych\n",
    "    df_scores = df_scores.append(score_as_series)\n",
    "\n",
    "# Wyświetlenie rezultatu\n",
    "df_scores"
   ]
  },
  {
   "cell_type": "markdown",
   "metadata": {},
   "source": [
    "Analiza rezultatów wskazuje, że najlepsze rezultaty dla wszystkich trzech metryk uzyskał estymator oparty na metodzie XGBoost. Model zbudowany na tym estymatorze zostanie wykorzystany finalnie do predykcji dla zbioru testowego. "
   ]
  },
  {
   "cell_type": "code",
   "execution_count": 65,
   "metadata": {},
   "outputs": [
    {
     "data": {
      "image/png": "[encoded data removed]",
      "text/plain": [
       "<Figure size 432x288 with 1 Axes>"
      ]
     },
     "metadata": {
      "needs_background": "light"
     },
     "output_type": "display_data"
    }
   ],
   "source": [
    "xgb_features_imp = grid_xgb.best_estimator_.feature_importances_\n",
    "features = X.columns\n",
    "\n",
    "plt.barh(features, xgb_features_imp)\n",
    "plt.title(\"Istotność poszczególnych zmiennych XGboost\")\n",
    "plt.show()"
   ]
  },
  {
   "cell_type": "markdown",
   "metadata": {},
   "source": [
    "Najbardziej istotną zmienną okazała się zmienna \"Title_Mr.\". Zmienna ta ma związek, że określa płeć, która, bazując na EDA miała znaczący wpływ na szansę przeżycia. Kolejną w kolejności istotności okazała się zmienna \"Pclass\" - co również wskazywało EDA. <br>Zmienne \"Crew\" oraz \"Age_2\" okazały się nieistotne."
   ]
  },
  {
   "cell_type": "code",
   "execution_count": 66,
   "metadata": {},
   "outputs": [],
   "source": [
    "final_model = grid_xgb.best_estimator_"
   ]
  },
  {
   "cell_type": "code",
   "execution_count": 67,
   "metadata": {},
   "outputs": [],
   "source": [
    "def preapre_data_predict(df):\n",
    "    \n",
    "    \"\"\"\n",
    "    Funkcja odpowiada za przygotowanie zbioru testowego do postaci umożliwiającej predykcję \n",
    "    z wykorzystaniem finalnego modelu\n",
    "    \n",
    "    Parameters:\n",
    "    df : DataFrame\n",
    "        Obiekt wyjściowy zawierający zbiór testowy\n",
    "        \n",
    "    Return:\n",
    "    X_test : DataFrame\n",
    "        Obiekt stanowiący zbiór testowy przekształcony do postaci wykorzystywanej w modelu\n",
    "    \"\"\"\n",
    "    \n",
    "    # Wykorzystanie \"PassengerId\" jako indeksu zbioru\n",
    "    df.set_index(\"PassengerId\", inplace=True)\n",
    "\n",
    "    # Wyrzucenie zmiennej Ticket\n",
    "    df.drop([\"Ticket\", \"Cabin\"], axis=1, inplace=True)\n",
    "\n",
    "    # Stworzenie zmiennej Solo dla osób podróżujących w pojedynkę\n",
    "    df[\"Solo\"] = ((df[\"SibSp\"] == 0) & (df[\"Parch\"] == 0)).astype(\"category\")\n",
    "\n",
    "    # Stworzenie zmiennej Crew dla osób podróżujących za darmo\n",
    "    df[\"Crew\"] = df[\"Fare\"] == 0\n",
    "\n",
    "    # Zmiana zmiennej \"Sex\" na zmienną binarną \"Female\"\n",
    "    df.rename(columns={\"Sex\": \"Female\"}, inplace=True)\n",
    "    df[\"Female\"] = df[\"Female\"].replace(to_replace={\"female\": 1, \"male\": 0})\n",
    "\n",
    "    # Binaryzacja zmiennych \"Crew\" oraz \"Solo\"\n",
    "    for col in [\"Crew\", \"Solo\"]:\n",
    "        df[col] = pd.factorize(df[col])[0]\n",
    "    \n",
    "    # Uzyskanie zmiennej \"Title\" wykorzystując zmienną \"Name\"\n",
    "    df[\"Title\"] = df[\"Name\"].str.extract(\"(\\w*\\.)\")\n",
    "    \n",
    "    # Wyodrębnienie kategorii \"Other\" dla zmiennej \"Title\" w przypadku gdy tytuł nie należy do listy\n",
    "    # \"Mrs.\", \"Miss.\", \"Mr.\", \"Master.\"\n",
    "\n",
    "    # Zamiana typu zmiennej na object\n",
    "    df[\"Title\"] = df[\"Title\"].astype(\"object\")\n",
    "\n",
    "    # Ustawienie nowej wartości dla tytułów nie należących do listy\n",
    "    df.loc[~df[\"Title\"].isin([\"Mrs.\", \"Miss.\", \"Mr.\", \"Master.\"]), \"Title\"] = \"Other\"\n",
    "\n",
    "    # Powrót do typu zmiennej będącej kategorią\n",
    "    df[\"Title\"] = df[\"Title\"].astype(\"category\")\n",
    "\n",
    "    # Zmiana zmiennej \"Title\" na zmienne binarne\n",
    "    dummy_title = pd.get_dummies(df[\"Title\"], prefix=\"Title\")\n",
    "\n",
    "    # Odrzucenie zmiennej \"Title_Other\" - One-hot Encoding\n",
    "    dummy_title.drop(\"Title_Other\", axis=1, inplace=True)\n",
    "    # Dodanie nowych kolumn do istniejącego zbioru\n",
    "    df = pd.concat((df, dummy_title), axis=1)\n",
    "\n",
    "    \n",
    "    # Zmiana zmiennej \"Embarked\" na zmienną \"Embarked_Q\" wskazującą czy dany pasażer okrętowałe się w Queenstown\n",
    "    df.rename(columns={\"Embarked\": \"Embarked_Q\"}, inplace=True)\n",
    "    df[\"Embarked_Q\"] = df[\"Embarked_Q\"].replace(to_replace={\"Q\": 1, \"S\": 0, \"C\": 0})\n",
    "\n",
    "    # Dodanie zmiennej będącej kwadratem wieku\n",
    "    df[\"Age_2\"] = df[\"Age\"] ** 2\n",
    "\n",
    "    # Odrzucenie zmiennych \"Name\" oraz \"Title\"\n",
    "    df.drop([\"Title\", \"Name\"], axis=1, inplace=True)\n",
    "     \n",
    "    # Zmiana typu danych dla zmiennej Pclass\n",
    "    df[\"Pclass\"] = df[\"Pclass\"].astype(int)\n",
    "    \n",
    "    # Deep copy df do zmiennej X_test\n",
    "    X_test = df.copy()\n",
    "\n",
    "    return X_test"
   ]
  },
  {
   "cell_type": "code",
   "execution_count": 68,
   "metadata": {},
   "outputs": [
    {
     "data": {
      "text/html": [
       "<div>\n",
       "<style scoped>\n",
       "    .dataframe tbody tr th:only-of-type {\n",
       "        vertical-align: middle;\n",
       "    }\n",
       "\n",
       "    .dataframe tbody tr th {\n",
       "        vertical-align: top;\n",
       "    }\n",
       "\n",
       "    .dataframe thead th {\n",
       "        text-align: right;\n",
       "    }\n",
       "</style>\n",
       "<table border=\"1\" class=\"dataframe\">\n",
       "  <thead>\n",
       "    <tr style=\"text-align: right;\">\n",
       "      <th></th>\n",
       "      <th>PassengerId</th>\n",
       "      <th>Pclass</th>\n",
       "      <th>Name</th>\n",
       "      <th>Sex</th>\n",
       "      <th>Age</th>\n",
       "      <th>SibSp</th>\n",
       "      <th>Parch</th>\n",
       "      <th>Ticket</th>\n",
       "      <th>Fare</th>\n",
       "      <th>Cabin</th>\n",
       "      <th>Embarked</th>\n",
       "    </tr>\n",
       "  </thead>\n",
       "  <tbody>\n",
       "    <tr>\n",
       "      <td>0</td>\n",
       "      <td>892</td>\n",
       "      <td>3</td>\n",
       "      <td>Kelly, Mr. James</td>\n",
       "      <td>male</td>\n",
       "      <td>34.5</td>\n",
       "      <td>0</td>\n",
       "      <td>0</td>\n",
       "      <td>330911</td>\n",
       "      <td>7.8292</td>\n",
       "      <td>NaN</td>\n",
       "      <td>Q</td>\n",
       "    </tr>\n",
       "    <tr>\n",
       "      <td>1</td>\n",
       "      <td>893</td>\n",
       "      <td>3</td>\n",
       "      <td>Wilkes, Mrs. James (Ellen Needs)</td>\n",
       "      <td>female</td>\n",
       "      <td>47.0</td>\n",
       "      <td>1</td>\n",
       "      <td>0</td>\n",
       "      <td>363272</td>\n",
       "      <td>7.0000</td>\n",
       "      <td>NaN</td>\n",
       "      <td>S</td>\n",
       "    </tr>\n",
       "    <tr>\n",
       "      <td>2</td>\n",
       "      <td>894</td>\n",
       "      <td>2</td>\n",
       "      <td>Myles, Mr. Thomas Francis</td>\n",
       "      <td>male</td>\n",
       "      <td>62.0</td>\n",
       "      <td>0</td>\n",
       "      <td>0</td>\n",
       "      <td>240276</td>\n",
       "      <td>9.6875</td>\n",
       "      <td>NaN</td>\n",
       "      <td>Q</td>\n",
       "    </tr>\n",
       "    <tr>\n",
       "      <td>3</td>\n",
       "      <td>895</td>\n",
       "      <td>3</td>\n",
       "      <td>Wirz, Mr. Albert</td>\n",
       "      <td>male</td>\n",
       "      <td>27.0</td>\n",
       "      <td>0</td>\n",
       "      <td>0</td>\n",
       "      <td>315154</td>\n",
       "      <td>8.6625</td>\n",
       "      <td>NaN</td>\n",
       "      <td>S</td>\n",
       "    </tr>\n",
       "    <tr>\n",
       "      <td>4</td>\n",
       "      <td>896</td>\n",
       "      <td>3</td>\n",
       "      <td>Hirvonen, Mrs. Alexander (Helga E Lindqvist)</td>\n",
       "      <td>female</td>\n",
       "      <td>22.0</td>\n",
       "      <td>1</td>\n",
       "      <td>1</td>\n",
       "      <td>3101298</td>\n",
       "      <td>12.2875</td>\n",
       "      <td>NaN</td>\n",
       "      <td>S</td>\n",
       "    </tr>\n",
       "  </tbody>\n",
       "</table>\n",
       "</div>"
      ],
      "text/plain": [
       "   PassengerId  Pclass                                          Name     Sex  \\\n",
       "0          892       3                              Kelly, Mr. James    male   \n",
       "1          893       3              Wilkes, Mrs. James (Ellen Needs)  female   \n",
       "2          894       2                     Myles, Mr. Thomas Francis    male   \n",
       "3          895       3                              Wirz, Mr. Albert    male   \n",
       "4          896       3  Hirvonen, Mrs. Alexander (Helga E Lindqvist)  female   \n",
       "\n",
       "    Age  SibSp  Parch   Ticket     Fare Cabin Embarked  \n",
       "0  34.5      0      0   330911   7.8292   NaN        Q  \n",
       "1  47.0      1      0   363272   7.0000   NaN        S  \n",
       "2  62.0      0      0   240276   9.6875   NaN        Q  \n",
       "3  27.0      0      0   315154   8.6625   NaN        S  \n",
       "4  22.0      1      1  3101298  12.2875   NaN        S  "
      ]
     },
     "execution_count": 68,
     "metadata": {},
     "output_type": "execute_result"
    }
   ],
   "source": [
    "# Podczytanie danych testowych z CSV\n",
    "df_test = pd.read_csv(r\"Dane\\test.csv\")\n",
    "\n",
    "# Podgląd zbioru przed przekształceniem\n",
    "df_test.head()"
   ]
  },
  {
   "cell_type": "code",
   "execution_count": 69,
   "metadata": {},
   "outputs": [],
   "source": [
    "# Przygotowanie zbioru do predykcji\n",
    "X_test = preapre_data_predict(df_test)"
   ]
  },
  {
   "cell_type": "code",
   "execution_count": 70,
   "metadata": {},
   "outputs": [
    {
     "data": {
      "text/html": [
       "<div>\n",
       "<style scoped>\n",
       "    .dataframe tbody tr th:only-of-type {\n",
       "        vertical-align: middle;\n",
       "    }\n",
       "\n",
       "    .dataframe tbody tr th {\n",
       "        vertical-align: top;\n",
       "    }\n",
       "\n",
       "    .dataframe thead th {\n",
       "        text-align: right;\n",
       "    }\n",
       "</style>\n",
       "<table border=\"1\" class=\"dataframe\">\n",
       "  <thead>\n",
       "    <tr style=\"text-align: right;\">\n",
       "      <th></th>\n",
       "      <th>Pclass</th>\n",
       "      <th>Female</th>\n",
       "      <th>Age</th>\n",
       "      <th>SibSp</th>\n",
       "      <th>Parch</th>\n",
       "      <th>Fare</th>\n",
       "      <th>Embarked_Q</th>\n",
       "      <th>Solo</th>\n",
       "      <th>Crew</th>\n",
       "      <th>Title_Master.</th>\n",
       "      <th>Title_Miss.</th>\n",
       "      <th>Title_Mr.</th>\n",
       "      <th>Title_Mrs.</th>\n",
       "      <th>Age_2</th>\n",
       "    </tr>\n",
       "    <tr>\n",
       "      <th>PassengerId</th>\n",
       "      <th></th>\n",
       "      <th></th>\n",
       "      <th></th>\n",
       "      <th></th>\n",
       "      <th></th>\n",
       "      <th></th>\n",
       "      <th></th>\n",
       "      <th></th>\n",
       "      <th></th>\n",
       "      <th></th>\n",
       "      <th></th>\n",
       "      <th></th>\n",
       "      <th></th>\n",
       "      <th></th>\n",
       "    </tr>\n",
       "  </thead>\n",
       "  <tbody>\n",
       "    <tr>\n",
       "      <td>892</td>\n",
       "      <td>3</td>\n",
       "      <td>0</td>\n",
       "      <td>34.5</td>\n",
       "      <td>0</td>\n",
       "      <td>0</td>\n",
       "      <td>7.8292</td>\n",
       "      <td>1</td>\n",
       "      <td>0</td>\n",
       "      <td>0</td>\n",
       "      <td>0</td>\n",
       "      <td>0</td>\n",
       "      <td>1</td>\n",
       "      <td>0</td>\n",
       "      <td>1190.25</td>\n",
       "    </tr>\n",
       "    <tr>\n",
       "      <td>893</td>\n",
       "      <td>3</td>\n",
       "      <td>1</td>\n",
       "      <td>47.0</td>\n",
       "      <td>1</td>\n",
       "      <td>0</td>\n",
       "      <td>7.0000</td>\n",
       "      <td>0</td>\n",
       "      <td>1</td>\n",
       "      <td>0</td>\n",
       "      <td>0</td>\n",
       "      <td>0</td>\n",
       "      <td>0</td>\n",
       "      <td>1</td>\n",
       "      <td>2209.00</td>\n",
       "    </tr>\n",
       "    <tr>\n",
       "      <td>894</td>\n",
       "      <td>2</td>\n",
       "      <td>0</td>\n",
       "      <td>62.0</td>\n",
       "      <td>0</td>\n",
       "      <td>0</td>\n",
       "      <td>9.6875</td>\n",
       "      <td>1</td>\n",
       "      <td>0</td>\n",
       "      <td>0</td>\n",
       "      <td>0</td>\n",
       "      <td>0</td>\n",
       "      <td>1</td>\n",
       "      <td>0</td>\n",
       "      <td>3844.00</td>\n",
       "    </tr>\n",
       "    <tr>\n",
       "      <td>895</td>\n",
       "      <td>3</td>\n",
       "      <td>0</td>\n",
       "      <td>27.0</td>\n",
       "      <td>0</td>\n",
       "      <td>0</td>\n",
       "      <td>8.6625</td>\n",
       "      <td>0</td>\n",
       "      <td>0</td>\n",
       "      <td>0</td>\n",
       "      <td>0</td>\n",
       "      <td>0</td>\n",
       "      <td>1</td>\n",
       "      <td>0</td>\n",
       "      <td>729.00</td>\n",
       "    </tr>\n",
       "    <tr>\n",
       "      <td>896</td>\n",
       "      <td>3</td>\n",
       "      <td>1</td>\n",
       "      <td>22.0</td>\n",
       "      <td>1</td>\n",
       "      <td>1</td>\n",
       "      <td>12.2875</td>\n",
       "      <td>0</td>\n",
       "      <td>1</td>\n",
       "      <td>0</td>\n",
       "      <td>0</td>\n",
       "      <td>0</td>\n",
       "      <td>0</td>\n",
       "      <td>1</td>\n",
       "      <td>484.00</td>\n",
       "    </tr>\n",
       "  </tbody>\n",
       "</table>\n",
       "</div>"
      ],
      "text/plain": [
       "             Pclass  Female   Age  SibSp  Parch     Fare  Embarked_Q  Solo  \\\n",
       "PassengerId                                                                  \n",
       "892               3       0  34.5      0      0   7.8292           1     0   \n",
       "893               3       1  47.0      1      0   7.0000           0     1   \n",
       "894               2       0  62.0      0      0   9.6875           1     0   \n",
       "895               3       0  27.0      0      0   8.6625           0     0   \n",
       "896               3       1  22.0      1      1  12.2875           0     1   \n",
       "\n",
       "             Crew  Title_Master.  Title_Miss.  Title_Mr.  Title_Mrs.    Age_2  \n",
       "PassengerId                                                                    \n",
       "892             0              0            0          1           0  1190.25  \n",
       "893             0              0            0          0           1  2209.00  \n",
       "894             0              0            0          1           0  3844.00  \n",
       "895             0              0            0          1           0   729.00  \n",
       "896             0              0            0          0           1   484.00  "
      ]
     },
     "execution_count": 70,
     "metadata": {},
     "output_type": "execute_result"
    }
   ],
   "source": [
    "# Podgląd zbioru po przeskształceniu\n",
    "X_test.head()"
   ]
  },
  {
   "cell_type": "code",
   "execution_count": 71,
   "metadata": {},
   "outputs": [],
   "source": [
    "# Predykcja dla zbioru testowego\n",
    "y_predict = final_model.predict(X_test)\n",
    "# Przekształcenie rezultatu do postaci Serii danych\n",
    "y_predict = pd.DataFrame(y_predict, index=X_test.index)\n",
    "y_predict.columns = [\"Survived\"]\n",
    "# Wyświetlenie rezultatu\n",
    "y_predict\n",
    "\n",
    "# Zapis do pliku CSV - udostępnienie rezultatu na Kaggle\n",
    "y_predict.to_csv(r\"Dane\\submission.csv\")"
   ]
  },
  {
   "cell_type": "markdown",
   "metadata": {},
   "source": [
    "![Wynik uzyskany na Kaggle](./Kaggle_result_1.png)"
   ]
  },
  {
   "cell_type": "markdown",
   "metadata": {},
   "source": [
    "Rezultat osiągnięty na zbiorze testowym wynosi 75 % skuteczności przewidzenia skutków katastrofy dla podanych pasażerów. <br> Jako dalsze rekomendacje sugerowane jest jeszcze większe eksplorowanie zbioru danych i szukanie powiązań między numerami biletów, nazwiskami oraz kabinami - być może w ten sposób udałoby się uzyskać większe pokrycie dla zmiennej \"Cabin\" z której można wywnioskować pokład na którym znajdował się dany pasażer. Z danych historycznych wynika, że niższe pokłady miały znacząco mniejszą szansę na przeżycie. "
   ]
  }
 ],
 "metadata": {
  "kernelspec": {
   "display_name": "Python 3",
   "language": "python",
   "name": "python3"
  },
  "language_info": {
   "codemirror_mode": {
    "name": "ipython",
    "version": 3
   },
   "file_extension": ".py",
   "mimetype": "text/x-python",
   "name": "python",
   "nbconvert_exporter": "python",
   "pygments_lexer": "ipython3",
   "version": "3.7.4"
  }
 },
 "nbformat": 4,
 "nbformat_minor": 4
}
